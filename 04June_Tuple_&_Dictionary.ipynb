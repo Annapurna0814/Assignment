{
  "nbformat": 4,
  "nbformat_minor": 0,
  "metadata": {
    "colab": {
      "provenance": []
    },
    "kernelspec": {
      "name": "python3",
      "display_name": "Python 3"
    },
    "language_info": {
      "name": "python"
    }
  },
  "cells": [
    {
      "cell_type": "code",
      "execution_count": 1,
      "metadata": {
        "colab": {
          "base_uri": "https://localhost:8080/"
        },
        "id": "PBkNeVRkBOPU",
        "outputId": "11d3848a-9321-414d-9cf6-47976f03f613"
      },
      "outputs": [
        {
          "output_type": "stream",
          "name": "stdout",
          "text": [
            "<class 'tuple'>\n"
          ]
        }
      ],
      "source": [
        "x=10,20\n",
        "print(type(x))"
      ]
    },
    {
      "cell_type": "code",
      "source": [
        "x=(10,20,\"abc\")\n",
        "print(type(x))"
      ],
      "metadata": {
        "colab": {
          "base_uri": "https://localhost:8080/"
        },
        "id": "zoGjoqtgBYyr",
        "outputId": "4fffba28-cab4-4a7d-b01c-1ec1b283c274"
      },
      "execution_count": 2,
      "outputs": [
        {
          "output_type": "stream",
          "name": "stdout",
          "text": [
            "<class 'tuple'>\n"
          ]
        }
      ]
    },
    {
      "cell_type": "code",
      "source": [
        "x=(10,20,\"abc\",10,10,40,90)\n",
        "print(x.count(10))\n",
        "print(x.index(40))"
      ],
      "metadata": {
        "colab": {
          "base_uri": "https://localhost:8080/"
        },
        "id": "eMCauhOkEggE",
        "outputId": "16b75ec7-3c2f-41a1-d08f-f62b22d255a4"
      },
      "execution_count": 3,
      "outputs": [
        {
          "output_type": "stream",
          "name": "stdout",
          "text": [
            "3\n",
            "5\n"
          ]
        }
      ]
    },
    {
      "cell_type": "code",
      "source": [
        "mydictionary={101:\"anu\",\"age\":33,\"email\":\"annapurnamylavarapu0814@gmail.com\"}\n",
        "print(mydictionary)"
      ],
      "metadata": {
        "colab": {
          "base_uri": "https://localhost:8080/"
        },
        "id": "kaWkCQyXEsne",
        "outputId": "f836d23d-8265-4f0c-ef1f-52de4e257847"
      },
      "execution_count": 9,
      "outputs": [
        {
          "output_type": "stream",
          "name": "stdout",
          "text": [
            "{101: 'anu', 'age': 33, 'email': 'annapurnamylavarapu0814@gmail.com'}\n"
          ]
        }
      ]
    },
    {
      "cell_type": "code",
      "source": [
        "mydictionary={101:\"anu\",\"age\":33,\"email\":\"annapurnamylavarapu0814@gmail.com\"}\n",
        "print(mydictionary[\"email\"])\n",
        "mydictionary[\"email\"]=\"anusuren0814@gmail.com\"\n",
        "print(mydictionary)\n",
        "mydictionary[\"add\"]=\"jaipur\"\n",
        "print(mydictionary)"
      ],
      "metadata": {
        "colab": {
          "base_uri": "https://localhost:8080/"
        },
        "id": "-tkBbYftGVgh",
        "outputId": "d875d34e-6339-43d2-beb1-b1ba45201a3d"
      },
      "execution_count": 14,
      "outputs": [
        {
          "output_type": "stream",
          "name": "stdout",
          "text": [
            "annapurnamylavarapu0814@gmail.com\n",
            "{101: 'anu', 'age': 33, 'email': 'anusuren0814@gmail.com'}\n",
            "{101: 'anu', 'age': 33, 'email': 'anusuren0814@gmail.com', 'add': 'jaipur'}\n"
          ]
        }
      ]
    },
    {
      "cell_type": "code",
      "source": [
        "x=mydictionary.pop(101)\n",
        "print(mydictionary,x)"
      ],
      "metadata": {
        "colab": {
          "base_uri": "https://localhost:8080/"
        },
        "id": "SjrpVaJ0H5is",
        "outputId": "0ecf38c1-389b-45f0-c777-991bbde21105"
      },
      "execution_count": 16,
      "outputs": [
        {
          "output_type": "stream",
          "name": "stdout",
          "text": [
            "{'age': 33, 'email': 'anusuren0814@gmail.com', 'add': 'jaipur'} anu\n"
          ]
        }
      ]
    },
    {
      "cell_type": "code",
      "source": [
        "mydictionary={10:\"a\",20:\"b\"}\n",
        "for i in mydictionary:\n",
        "  print(i,mydictionary[i])"
      ],
      "metadata": {
        "colab": {
          "base_uri": "https://localhost:8080/"
        },
        "id": "xOkXuwLLIKUp",
        "outputId": "e2ad673d-e118-40b6-8511-ae2739376ed7"
      },
      "execution_count": 17,
      "outputs": [
        {
          "output_type": "stream",
          "name": "stdout",
          "text": [
            "10 a\n",
            "20 b\n"
          ]
        }
      ]
    },
    {
      "cell_type": "code",
      "source": [
        "mydictionary={10:\"a\",20:\"b\"}\n",
        "for i in mydictionary.keys():\n",
        "  print(i,mydictionary[i])"
      ],
      "metadata": {
        "colab": {
          "base_uri": "https://localhost:8080/"
        },
        "id": "BVO7nUZdKoAO",
        "outputId": "900708ad-e46e-4e77-ed36-007a65ef42fc"
      },
      "execution_count": 18,
      "outputs": [
        {
          "output_type": "stream",
          "name": "stdout",
          "text": [
            "10 a\n",
            "20 b\n"
          ]
        }
      ]
    },
    {
      "cell_type": "code",
      "source": [
        "mydictionary={10:\"a\",20:\"b\"}\n",
        "for i in mydictionary.values():\n",
        "  print(i)"
      ],
      "metadata": {
        "colab": {
          "base_uri": "https://localhost:8080/"
        },
        "id": "DdrMYCiNNEmT",
        "outputId": "cadd6f0a-d691-401f-8523-fefb0460a0e4"
      },
      "execution_count": 29,
      "outputs": [
        {
          "output_type": "stream",
          "name": "stdout",
          "text": [
            "a\n",
            "b\n"
          ]
        }
      ]
    },
    {
      "cell_type": "code",
      "source": [
        "mydictionary={10:\"a\",\"amount\":100}\n",
        "mydictionary[\"amount\"]=mydictionary[\"amount\"]+5\n",
        "print(mydictionary)"
      ],
      "metadata": {
        "colab": {
          "base_uri": "https://localhost:8080/"
        },
        "id": "PzCJvQnpNWGq",
        "outputId": "45b6b463-b706-4fbd-bd62-71675a41ee88"
      },
      "execution_count": 31,
      "outputs": [
        {
          "output_type": "stream",
          "name": "stdout",
          "text": [
            "{10: 'a', 'amount': 105}\n"
          ]
        }
      ]
    },
    {
      "cell_type": "code",
      "source": [
        "s=\"Raj\"\n",
        "mydictionary={\"total\":0}\n",
        "for i in s:\n",
        "  mydictionary[\"total\"]=mydictionary[\"total\"]+1\n",
        "print(mydictionary)"
      ],
      "metadata": {
        "colab": {
          "base_uri": "https://localhost:8080/"
        },
        "id": "vjtor2_POAt2",
        "outputId": "6936b09d-752e-4451-ab29-39667e5cdec3"
      },
      "execution_count": 33,
      "outputs": [
        {
          "output_type": "stream",
          "name": "stdout",
          "text": [
            "{'total': 3}\n"
          ]
        }
      ]
    },
    {
      "cell_type": "code",
      "source": [
        "s = \"abc\"\n",
        "mydictionary = {}\n",
        "for i in s:\n",
        "    if i in mydictionary:\n",
        "        mydictionary[i]+=1\n",
        "    else:\n",
        "        mydictionary[i]=1\n",
        "print(mydictionary)"
      ],
      "metadata": {
        "colab": {
          "base_uri": "https://localhost:8080/"
        },
        "id": "9u5DNcRSMHnF",
        "outputId": "56ba83de-49f2-4d97-da5c-04e1cb44ec5a"
      },
      "execution_count": 23,
      "outputs": [
        {
          "output_type": "stream",
          "name": "stdout",
          "text": [
            "{'a': 1, 'b': 1, 'c': 1}\n"
          ]
        }
      ]
    }
  ]
}