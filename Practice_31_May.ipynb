{
  "nbformat": 4,
  "nbformat_minor": 0,
  "metadata": {
    "colab": {
      "provenance": []
    },
    "kernelspec": {
      "name": "python3",
      "display_name": "Python 3"
    },
    "language_info": {
      "name": "python"
    }
  },
  "cells": [
    {
      "cell_type": "code",
      "execution_count": null,
      "metadata": {
        "colab": {
          "base_uri": "https://localhost:8080/"
        },
        "id": "Qbv6yu3i0zI2",
        "outputId": "b287ec87-c0fa-4b02-fe9f-d759911f28ee"
      },
      "outputs": [
        {
          "output_type": "stream",
          "name": "stdout",
          "text": [
            "Enter integer:56\n",
            "Even Number\n"
          ]
        }
      ],
      "source": [
        "n=int(input(\"Enter integer:\"))\n",
        "if n%2==0:\n",
        "  print(\"Even Number\")\n",
        "else:\n",
        "  print(\"Odd Number\")"
      ]
    },
    {
      "cell_type": "code",
      "source": [
        "n=int(input(\"Enter integer:\"))\n",
        "\n",
        "if n>0:\n",
        "  print(\"Positive Number\")\n",
        "elif n<0:\n",
        "  print(\"Negative Number\")\n",
        "else:\n",
        "  print(\"Zero\")"
      ],
      "metadata": {
        "colab": {
          "base_uri": "https://localhost:8080/"
        },
        "id": "avLu3xb41b1U",
        "outputId": "d3eec88d-1d7d-4ce7-8461-0f83978301a2"
      },
      "execution_count": null,
      "outputs": [
        {
          "output_type": "stream",
          "name": "stdout",
          "text": [
            "Enter integer:-45\n",
            "Negative Number\n"
          ]
        }
      ]
    },
    {
      "cell_type": "code",
      "source": [
        "num1=int(input(\"Enter first number:\"))\n",
        "num2=int(input(\"Enter second number:\"))\n",
        "num3=int(input(\"Enter third number:\"))\n",
        "\n",
        "if num1>=num2 and num1>=num3:\n",
        "  largest=num1\n",
        "elif num2>num1 and num2>num3:\n",
        "  largest=num2\n",
        "else:\n",
        "  largest=num3\n",
        "\n",
        "print(\"largest Number:\",largest)"
      ],
      "metadata": {
        "colab": {
          "base_uri": "https://localhost:8080/"
        },
        "id": "kK5ypnq8160U",
        "outputId": "d280b286-97d1-491f-a0cc-ead4db8a7718"
      },
      "execution_count": null,
      "outputs": [
        {
          "output_type": "stream",
          "name": "stdout",
          "text": [
            "Enter first number:45\n",
            "Enter second number:25\n",
            "Enter third number:36\n",
            "largest Number: 45\n"
          ]
        }
      ]
    },
    {
      "cell_type": "code",
      "source": [
        "n=int(input(\"Enter number:\"))\n",
        "\n",
        "if (n%4==0 and n%100!=0) or n%400==0:\n",
        "  print(\"leap year\")\n",
        "else:\n",
        "  print(\"not a leap year\")"
      ],
      "metadata": {
        "colab": {
          "base_uri": "https://localhost:8080/"
        },
        "id": "RWfWAqcU2qdD",
        "outputId": "0c256d9b-4989-4f4f-9909-245ed17ca79d"
      },
      "execution_count": null,
      "outputs": [
        {
          "output_type": "stream",
          "name": "stdout",
          "text": [
            "Enter number:1995\n",
            "not a leap year\n"
          ]
        }
      ]
    },
    {
      "cell_type": "code",
      "source": [
        "n=int(input(\"Enter number:\"))\n",
        "\n",
        "if(n%3==0 and n%5==0):\n",
        "  print(\"Divisible\")\n",
        "else:\n",
        "  print(\"Not Divisible\")"
      ],
      "metadata": {
        "colab": {
          "base_uri": "https://localhost:8080/"
        },
        "id": "jfKmqNKE3rz7",
        "outputId": "8f048d35-9e60-4d8a-eb94-57d7789bd696"
      },
      "execution_count": null,
      "outputs": [
        {
          "output_type": "stream",
          "name": "stdout",
          "text": [
            "Enter number:15\n",
            "Divisible\n"
          ]
        }
      ]
    },
    {
      "cell_type": "code",
      "source": [
        "char=input(\"Enter single Character:\")\n",
        "\n",
        "char=char.lower()\n",
        "\n",
        "if char==\"a\" or char==\"e\" or char==\"i\" or char==\"o\" or char==\"u\":\n",
        "  print(\"Vowel\")\n",
        "else:\n",
        "  print(\"consonant\")"
      ],
      "metadata": {
        "colab": {
          "base_uri": "https://localhost:8080/"
        },
        "id": "lfYHoOFh4DIa",
        "outputId": "86ee0a01-3ec1-47e2-a682-be390830d1cb"
      },
      "execution_count": null,
      "outputs": [
        {
          "output_type": "stream",
          "name": "stdout",
          "text": [
            "Enter single Character:j\n",
            "consonant\n"
          ]
        }
      ]
    },
    {
      "cell_type": "code",
      "source": [
        "marks=int(input(\"Enter Marks:\"))\n",
        "\n",
        "if marks>=90:\n",
        "  print(\"Grade A\")\n",
        "elif marks>=80:\n",
        "  print(\"Grade B\")\n",
        "elif marks>=70:\n",
        "  print(\"Grade C\")\n",
        "elif marks>=60:\n",
        "  print(\"Grade D\")\n",
        "else:\n",
        "  print(\"Fail\")"
      ],
      "metadata": {
        "colab": {
          "base_uri": "https://localhost:8080/"
        },
        "id": "QJRFoesb4mwH",
        "outputId": "1e343856-44b2-4eb1-e7fe-f9b222bdd5e7"
      },
      "execution_count": null,
      "outputs": [
        {
          "output_type": "stream",
          "name": "stdout",
          "text": [
            "Enter Marks:72\n",
            "Grade C\n"
          ]
        }
      ]
    },
    {
      "cell_type": "code",
      "source": [
        "age=int(input(\"Enter Age:\"))\n",
        "\n",
        "if age>=18:\n",
        "  print(\"Eligible\")\n",
        "else:\n",
        "  print(\"Not eligible\")"
      ],
      "metadata": {
        "colab": {
          "base_uri": "https://localhost:8080/"
        },
        "id": "CCfIsend5LEp",
        "outputId": "d3040f05-cd57-427a-9800-27ee5f91396b"
      },
      "execution_count": null,
      "outputs": [
        {
          "output_type": "stream",
          "name": "stdout",
          "text": [
            "Enter Age:25\n",
            "Eligible\n"
          ]
        }
      ]
    },
    {
      "cell_type": "code",
      "source": [
        "i=1\n",
        "\n",
        "while i<=10:\n",
        "  print(i,end=\" \")\n",
        "  i+=1"
      ],
      "metadata": {
        "colab": {
          "base_uri": "https://localhost:8080/"
        },
        "id": "_8C1GDvY5pPE",
        "outputId": "80b668e2-89b6-484b-9983-845ae6f8aac3"
      },
      "execution_count": null,
      "outputs": [
        {
          "output_type": "stream",
          "name": "stdout",
          "text": [
            "1 2 3 4 5 6 7 8 9 10 "
          ]
        }
      ]
    },
    {
      "cell_type": "code",
      "source": [
        "num=2\n",
        "\n",
        "while num<=20:\n",
        "  print(num,end=\" \")\n",
        "  num+=2"
      ],
      "metadata": {
        "colab": {
          "base_uri": "https://localhost:8080/"
        },
        "id": "FxOGvu9v8Few",
        "outputId": "029c5c03-6d10-43b3-81b8-d11d03f0bc9f"
      },
      "execution_count": null,
      "outputs": [
        {
          "output_type": "stream",
          "name": "stdout",
          "text": [
            "2 4 6 8 10 12 14 16 18 20 "
          ]
        }
      ]
    },
    {
      "cell_type": "code",
      "source": [
        "num=1\n",
        "while num <= 20:\n",
        "   if num%2==0:\n",
        "     print(num,end=\" \")\n",
        "   num+=3\n"
      ],
      "metadata": {
        "colab": {
          "base_uri": "https://localhost:8080/"
        },
        "id": "5H29IWfX9VQJ",
        "outputId": "ffec1633-795c-4fa3-af69-fcf6012d2d16"
      },
      "execution_count": null,
      "outputs": [
        {
          "output_type": "stream",
          "name": "stdout",
          "text": [
            "4 10 16 "
          ]
        }
      ]
    },
    {
      "cell_type": "code",
      "source": [
        "n=int(input(\"Enter Number:\"))\n",
        "\n",
        "i=1\n",
        "sum=0\n",
        "\n",
        "while i<=n:\n",
        "  sum+=i\n",
        "  i+=1\n",
        "\n",
        "print(\"sum of n natural numbers:\",sum)"
      ],
      "metadata": {
        "colab": {
          "base_uri": "https://localhost:8080/"
        },
        "id": "693pC9sw_EqW",
        "outputId": "bfac3ae8-406a-4649-9aa3-68c930638f01"
      },
      "execution_count": null,
      "outputs": [
        {
          "output_type": "stream",
          "name": "stdout",
          "text": [
            "Enter Number:5\n",
            "sum of n natural numbers: 15\n"
          ]
        }
      ]
    },
    {
      "cell_type": "code",
      "source": [
        "n=int(input(\"Enter number:\"))\n",
        "\n",
        "i=1\n",
        "\n",
        "while i<10:\n",
        "  print(f\"{n}x {i}= {n*i}\")\n",
        "  i+=1"
      ],
      "metadata": {
        "colab": {
          "base_uri": "https://localhost:8080/"
        },
        "id": "T3LNBsNG_8Fs",
        "outputId": "9410c929-e4d8-43c0-ec75-058486ab71e1"
      },
      "execution_count": null,
      "outputs": [
        {
          "output_type": "stream",
          "name": "stdout",
          "text": [
            "Enter number:2\n",
            "2x 1= 2\n",
            "2x 2= 4\n",
            "2x 3= 6\n",
            "2x 4= 8\n",
            "2x 5= 10\n",
            "2x 6= 12\n",
            "2x 7= 14\n",
            "2x 8= 16\n",
            "2x 9= 18\n"
          ]
        }
      ]
    },
    {
      "cell_type": "code",
      "source": [
        "num=int(input(\"Enter number:\"))\n",
        "\n",
        "reversed_num=0\n",
        "\n",
        "while num>0:\n",
        "  digit=num%10\n",
        "  reversed_num=reversed_num*10+digit\n",
        "  num//=10\n",
        "print(\"reverse num:\",reversed_num)"
      ],
      "metadata": {
        "colab": {
          "base_uri": "https://localhost:8080/"
        },
        "id": "gi-llOKXBjBE",
        "outputId": "2d9d3c4a-146f-411b-9aea-5e446fba2bb1"
      },
      "execution_count": null,
      "outputs": [
        {
          "output_type": "stream",
          "name": "stdout",
          "text": [
            "Enter number:1234\n",
            "reverse num: 4321\n"
          ]
        }
      ]
    },
    {
      "cell_type": "code",
      "source": [
        "num=int(input(\"Enter number:\"))\n",
        "count=0\n",
        "\n",
        "if num==0:\n",
        "  count=1\n",
        "while num>0:\n",
        "  num//=10\n",
        "  count+=1\n",
        "\n",
        "print(\"Number of digits:\",count)\n"
      ],
      "metadata": {
        "colab": {
          "base_uri": "https://localhost:8080/"
        },
        "id": "vT9sC0dWEgJw",
        "outputId": "63a798dd-d350-4af8-b6dc-0fb4afcb417a"
      },
      "execution_count": null,
      "outputs": [
        {
          "output_type": "stream",
          "name": "stdout",
          "text": [
            "Enter number:45678\n",
            "Number of digits: 5\n"
          ]
        }
      ]
    },
    {
      "cell_type": "code",
      "source": [
        "n = int(input(\"Enter a number: \"))\n",
        "\n",
        "factorial = 1\n",
        "i = 1\n",
        "\n",
        "while i <= n:\n",
        "    factorial *= i\n",
        "    i += 1\n",
        "\n",
        "print(f\"Factorial of {n} is {factorial}\")\n"
      ],
      "metadata": {
        "colab": {
          "base_uri": "https://localhost:8080/"
        },
        "id": "jjR7lU2uIImo",
        "outputId": "2bc06253-8624-4698-987b-3a521af4c80f"
      },
      "execution_count": null,
      "outputs": [
        {
          "output_type": "stream",
          "name": "stdout",
          "text": [
            "Enter a number: 5\n",
            "Factorial of 5 is 120\n"
          ]
        }
      ]
    },
    {
      "cell_type": "code",
      "source": [
        "i=1\n",
        "num=0\n",
        "\n",
        "while num<=50:\n",
        "  if (i%2==0 and i%3==0 and i%6==0):\n",
        "    print(i,end=\" \")\n",
        "    i+=1\n",
        "    num+=1\n",
        "  else:\n",
        "    i+=1\n"
      ],
      "metadata": {
        "id": "vHdIUDLAITsy",
        "colab": {
          "base_uri": "https://localhost:8080/"
        },
        "outputId": "861d33ac-a954-410e-a775-74545b4c7579"
      },
      "execution_count": null,
      "outputs": [
        {
          "output_type": "stream",
          "name": "stdout",
          "text": [
            "6 12 18 24 30 36 42 48 54 60 66 72 78 84 90 96 102 108 114 120 126 132 138 144 150 156 162 168 174 180 186 192 198 204 210 216 222 228 234 240 246 252 258 264 270 276 282 288 294 300 306 "
          ]
        }
      ]
    },
    {
      "cell_type": "code",
      "source": [
        "num=2\n",
        "count=0\n",
        "\n",
        "while(count<=3):\n",
        "  a=0\n",
        "  for i in range(2,num):\n",
        "    if(num%i==0):\n",
        "      a=1\n",
        "      break\n",
        "  if(a==1):\n",
        "    print(\"'not a prime\",num)\n",
        "  else:\n",
        "    print(\"prime\",num)\n",
        "  count+=1"
      ],
      "metadata": {
        "colab": {
          "base_uri": "https://localhost:8080/"
        },
        "id": "k0x-xHsoTjVZ",
        "outputId": "7495a127-fab1-409b-b898-947835d1181b"
      },
      "execution_count": null,
      "outputs": [
        {
          "output_type": "stream",
          "name": "stdout",
          "text": [
            "prime 2\n",
            "prime 2\n",
            "prime 2\n",
            "prime 2\n"
          ]
        }
      ]
    }
  ]
}