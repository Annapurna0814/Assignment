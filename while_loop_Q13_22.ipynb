{
  "nbformat": 4,
  "nbformat_minor": 0,
  "metadata": {
    "colab": {
      "provenance": []
    },
    "kernelspec": {
      "name": "python3",
      "display_name": "Python 3"
    },
    "language_info": {
      "name": "python"
    }
  },
  "cells": [
    {
      "cell_type": "code",
      "execution_count": 2,
      "metadata": {
        "colab": {
          "base_uri": "https://localhost:8080/"
        },
        "id": "umxVmx2whNte",
        "outputId": "d13c119c-09df-4fa1-bd14-d0d05d493e88"
      },
      "outputs": [
        {
          "output_type": "stream",
          "name": "stdout",
          "text": [
            "enter number:4\n",
            "Factorial of 4 is 24\n"
          ]
        }
      ],
      "source": [
        "num=int(input(\"enter number:\"))\n",
        "\n",
        "if num<0:\n",
        "  print(\"Factorial is not defined for negative numbers\")\n",
        "else:\n",
        "  factorial=1\n",
        "  i=1\n",
        "  while i<=num:\n",
        "    factorial=factorial*i\n",
        "    i+=1\n",
        "  print(\"Factorial of\",num,\"is\",factorial)"
      ]
    },
    {
      "cell_type": "code",
      "source": [
        "num1=int(input(\"Enter number:\"))\n",
        "num2=int(input(\"Enter number:\"))\n",
        "\n",
        "if num1>num2:\n",
        "  greater=num1\n",
        "else:\n",
        "  greater=num2\n",
        "while True:\n",
        "  if(greater%num1==0 and greater%num2==0):\n",
        "    lcm=greater\n",
        "    break\n",
        "  greater+=1\n",
        "print(\"LCM of\",num1,\"and\",num2,\"is\",lcm)"
      ],
      "metadata": {
        "colab": {
          "base_uri": "https://localhost:8080/"
        },
        "id": "JBhcHKzwh2Ra",
        "outputId": "81412ab5-a6f5-43a8-dc9d-26d2282e985a"
      },
      "execution_count": 6,
      "outputs": [
        {
          "output_type": "stream",
          "name": "stdout",
          "text": [
            "Enter number:4\n",
            "Enter number:6\n",
            "LCM of 4 and 6 is 12\n"
          ]
        }
      ]
    },
    {
      "cell_type": "code",
      "source": [
        "num=int(input(\"enter number:\"))\n",
        "\n",
        "if num<=1:\n",
        "  print(\"num,is not prime\")\n",
        "else:\n",
        "  i=2\n",
        "  count=0\n",
        "  while i<num:\n",
        "    if num%i==0:\n",
        "      count+=1\n",
        "      break\n",
        "    i+=1\n",
        "  if count==0:\n",
        "    print(num,\"is prime\")\n",
        "  else:\n",
        "    print(num,\"is not prime\")"
      ],
      "metadata": {
        "colab": {
          "base_uri": "https://localhost:8080/"
        },
        "id": "00-Vet6diaic",
        "outputId": "9c238b23-0c0f-4c80-a5ec-b786cdcba796"
      },
      "execution_count": 7,
      "outputs": [
        {
          "output_type": "stream",
          "name": "stdout",
          "text": [
            "enter number:46\n",
            "46 is not prime\n"
          ]
        }
      ]
    },
    {
      "cell_type": "code",
      "source": [
        "n=int(input(\"Enter number:\"))\n",
        "\n",
        "num=2\n",
        "\n",
        "while num<=n:\n",
        "  i=2\n",
        "  count=0\n",
        "\n",
        "  while i<num:\n",
        "    if num%i==0:\n",
        "      count=1\n",
        "      break\n",
        "    i+=1\n",
        "\n",
        "  if count==0:\n",
        "    print(num)\n",
        "  num+=1"
      ],
      "metadata": {
        "colab": {
          "base_uri": "https://localhost:8080/"
        },
        "id": "e5jpcakxkc2w",
        "outputId": "6c49de3b-9ae7-43cb-8874-5c4ef3748a0c"
      },
      "execution_count": 14,
      "outputs": [
        {
          "output_type": "stream",
          "name": "stdout",
          "text": [
            "Enter number:23\n",
            "2\n",
            "3\n",
            "5\n",
            "7\n",
            "11\n",
            "13\n",
            "17\n",
            "19\n",
            "23\n"
          ]
        }
      ]
    },
    {
      "cell_type": "code",
      "source": [
        "num = int(input(\"Enter a number: \"))\n",
        "\n",
        "i = 2\n",
        "\n",
        "print(\"Prime factors of \", num)\n",
        "\n",
        "while num > 1:\n",
        "    if num % i == 0:\n",
        "        print(i, end=' ')\n",
        "        num = num//i\n",
        "    else:\n",
        "        i+=1"
      ],
      "metadata": {
        "colab": {
          "base_uri": "https://localhost:8080/"
        },
        "id": "Y5ifj6Cqlen9",
        "outputId": "87d21b9c-dce0-4d2d-b063-8cafcb2235e3"
      },
      "execution_count": 29,
      "outputs": [
        {
          "output_type": "stream",
          "name": "stdout",
          "text": [
            "Enter a number: 16\n",
            "Prime factors of  16\n",
            "2 2 2 2 "
          ]
        }
      ]
    },
    {
      "cell_type": "code",
      "source": [
        "num = int(input(\"Enter number: \"))\n",
        "\n",
        "temp = num\n",
        "num2 = num\n",
        "count = 0\n",
        "total = 0\n",
        "\n",
        "while num > 0:\n",
        "    num = num // 10\n",
        "    count += 1\n",
        "\n",
        "while num2 > 0:\n",
        "    rem = num2 % 10\n",
        "    total += rem ** count\n",
        "    num2 = num2 // 10\n",
        "\n",
        "if temp == total:\n",
        "    print(\"Armstrong number\")\n",
        "else:\n",
        "    print(\"Not Armstrong number\")"
      ],
      "metadata": {
        "colab": {
          "base_uri": "https://localhost:8080/"
        },
        "id": "WpvMi30mm0nS",
        "outputId": "4aa43349-a679-4c65-df72-9eb9dcc9f2f3"
      },
      "execution_count": 38,
      "outputs": [
        {
          "output_type": "stream",
          "name": "stdout",
          "text": [
            "Enter number: 1234\n",
            "Not Armstrong number\n"
          ]
        }
      ]
    },
    {
      "cell_type": "code",
      "source": [
        "num = int(input(\"Enter a number: \"))\n",
        "temp = num\n",
        "total = 0\n",
        "\n",
        "while num > 0:\n",
        "    digit = num % 10\n",
        "    factorial = 1\n",
        "\n",
        "    i = 1\n",
        "    while i <= digit:\n",
        "        factorial*= i\n",
        "        i+=1\n",
        "\n",
        "    total+=factorial\n",
        "    num = num // 10\n",
        "\n",
        "if total == temp:\n",
        "    print(temp, \"Strong number.\")\n",
        "else:\n",
        "    print(temp, \"is not Strong number.\")\n"
      ],
      "metadata": {
        "colab": {
          "base_uri": "https://localhost:8080/"
        },
        "id": "O8jn5UeCp_lf",
        "outputId": "9978a0ec-d235-4e9f-b508-e7fc31f1b2a5"
      },
      "execution_count": 40,
      "outputs": [
        {
          "output_type": "stream",
          "name": "stdout",
          "text": [
            "Enter a number: 132\n",
            "132 is not Strong number.\n"
          ]
        }
      ]
    },
    {
      "cell_type": "code",
      "source": [
        "num = int(input(\"Enter a number: \"))\n",
        "\n",
        "i = 1\n",
        "sum_divisors = 0\n",
        "\n",
        "while i < num:\n",
        "    if num % i == 0:\n",
        "        sum_divisors += i\n",
        "    i += 1\n",
        "\n",
        "if sum_divisors == num:\n",
        "    print(num, \"Perfect number.\")\n",
        "else:\n",
        "    print(num, \"not Perfect number.\")\n"
      ],
      "metadata": {
        "colab": {
          "base_uri": "https://localhost:8080/"
        },
        "id": "KiyZUsGHqp5Q",
        "outputId": "1ecc80f4-64b7-4406-c56e-fce2f9db184e"
      },
      "execution_count": 47,
      "outputs": [
        {
          "output_type": "stream",
          "name": "stdout",
          "text": [
            "Enter a number: 42\n",
            "42 not Perfect number.\n"
          ]
        }
      ]
    },
    {
      "cell_type": "code",
      "source": [
        "num= int(input(\"Enter the number of terms: \"))\n",
        "\n",
        "a = 0\n",
        "b = 1\n",
        "i = 1\n",
        "\n",
        "print(\"Fibonacci series:\")\n",
        "\n",
        "while i <= num:\n",
        "    print(a, end=' ')\n",
        "    next_term = a+b\n",
        "    a=b\n",
        "    b= next_term\n",
        "    i += 1"
      ],
      "metadata": {
        "colab": {
          "base_uri": "https://localhost:8080/"
        },
        "id": "vz9oQzRxrKDg",
        "outputId": "a38a7bc4-4b73-4b94-df6c-05298c375011"
      },
      "execution_count": 50,
      "outputs": [
        {
          "output_type": "stream",
          "name": "stdout",
          "text": [
            "Enter the number of terms: 6\n",
            "Fibonacci series:\n",
            "0 1 1 2 3 5 "
          ]
        }
      ]
    },
    {
      "cell_type": "code",
      "source": [
        "binary = int(input(\"Enter binary number: \"))\n",
        "\n",
        "ones_complement = 0\n",
        "digit_place = 1\n",
        "\n",
        "while binary > 0:\n",
        "    bit = binary % 10\n",
        "    if bit == 0:\n",
        "        ones_complement += 1 * digit_place\n",
        "    elif bit == 1:\n",
        "        ones_complement += 0 * digit_place\n",
        "    else:\n",
        "        print(\"Only 0 and 1 allowed.\")\n",
        "        break\n",
        "    binary = binary // 10\n",
        "    digit_place*=10\n",
        "else:\n",
        "    print(\"1's Complement:\", ones_complement)"
      ],
      "metadata": {
        "colab": {
          "base_uri": "https://localhost:8080/"
        },
        "id": "7Gk0Mc6Frref",
        "outputId": "c35a045b-c35c-4821-a2ee-ff9fba1ede8a"
      },
      "execution_count": 52,
      "outputs": [
        {
          "output_type": "stream",
          "name": "stdout",
          "text": [
            "Enter binary number: 10011110\n",
            "1's Complement: 1100001\n"
          ]
        }
      ]
    }
  ]
}