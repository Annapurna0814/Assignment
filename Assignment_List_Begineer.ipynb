{
  "nbformat": 4,
  "nbformat_minor": 0,
  "metadata": {
    "colab": {
      "provenance": []
    },
    "kernelspec": {
      "name": "python3",
      "display_name": "Python 3"
    },
    "language_info": {
      "name": "python"
    }
  },
  "cells": [
    {
      "cell_type": "code",
      "execution_count": null,
      "metadata": {
        "colab": {
          "base_uri": "https://localhost:8080/"
        },
        "id": "cmzgwVlYW1lu",
        "outputId": "99cbaa0e-bcd1-4c46-de2c-f2fb4b7fdfd2"
      },
      "outputs": [
        {
          "output_type": "stream",
          "name": "stdout",
          "text": [
            "Before condition-> 10 10\n",
            "Before condition-> 20 10\n",
            "After condition-> 20 20\n",
            "Before condition-> 4 20\n",
            "Before condition-> 45 20\n",
            "After condition-> 45 45\n",
            "Before condition-> 99 45\n",
            "After condition-> 99 99\n",
            "Maximum element: 99\n"
          ]
        }
      ],
      "source": [
        "numbers=[10,20,4,45,99]\n",
        "max=numbers[0]\n",
        "\n",
        "for index in range(0,len(numbers)):\n",
        "  print(\"Before condition->\",numbers[index],max)\n",
        "\n",
        "  if (numbers[index]>max):\n",
        "    max=numbers[index]\n",
        "    print(\"After condition->\",numbers[index],max)\n",
        "\n",
        "print(\"Maximum element:\",max)"
      ]
    },
    {
      "cell_type": "code",
      "source": [
        "numbers=[10,20,30,40]\n",
        "sum=0\n",
        "\n",
        "for index in range(0,len(numbers)):\n",
        "  sum+=numbers[index]\n",
        "print(\"Sum:\",sum)"
      ],
      "metadata": {
        "colab": {
          "base_uri": "https://localhost:8080/"
        },
        "id": "BFKJ6XEGZDNv",
        "outputId": "716f934c-bfd4-4833-97ff-220a5d8a2b61"
      },
      "execution_count": null,
      "outputs": [
        {
          "output_type": "stream",
          "name": "stdout",
          "text": [
            "Sum: 100\n"
          ]
        }
      ]
    },
    {
      "cell_type": "code",
      "source": [
        "numbers = [1, 2, 3, 4, 5]\n",
        "reversed_list = []\n",
        "\n",
        "for index in range(len(numbers) - 1, -1, -1):\n",
        "    reversed_list.append(numbers[index])\n",
        "\n",
        "print(\"Reversed list:\", reversed_list)"
      ],
      "metadata": {
        "colab": {
          "base_uri": "https://localhost:8080/"
        },
        "id": "e3B7NEObcmn5",
        "outputId": "ed31baff-7147-44dd-a778-6ffd0c123bb0"
      },
      "execution_count": null,
      "outputs": [
        {
          "output_type": "stream",
          "name": "stdout",
          "text": [
            "Reversed list: [5, 4, 3, 2, 1]\n"
          ]
        }
      ]
    },
    {
      "cell_type": "code",
      "source": [
        "numbers=[2,8,3,1,10,5]\n",
        "\n",
        "for index1 in range(0,len(numbers)):\n",
        "  for index2 in range(0,len(numbers)-index1-1):\n",
        "    if (numbers[index2]>numbers[index2+1]):\n",
        "      temp=numbers[index2]\n",
        "      numbers[index2]=numbers[index2+1]\n",
        "      numbers[index2+1]=temp\n",
        "print(\"Ascending order:\",numbers)"
      ],
      "metadata": {
        "colab": {
          "base_uri": "https://localhost:8080/"
        },
        "id": "fRSuO9J0frvp",
        "outputId": "fb434a0f-c390-4f59-9f46-784e3e560c8f"
      },
      "execution_count": null,
      "outputs": [
        {
          "output_type": "stream",
          "name": "stdout",
          "text": [
            "Ascending order: [1, 2, 3, 5, 8, 10]\n"
          ]
        }
      ]
    },
    {
      "cell_type": "code",
      "source": [
        "numbers=[1,2,2,3,4,4,5]\n",
        "new_list=[]\n",
        "\n",
        "for index1 in range(0,len(numbers)):\n",
        "  value=numbers[index1]\n",
        "  count=0\n",
        "  for index2 in range(0,len(new_list)):\n",
        "    if new_list[index2]==value:\n",
        "      count+=1\n",
        "  if count==0:\n",
        "    new_list.append(value)\n",
        "print(\"list after removing duplicates:\",new_list)"
      ],
      "metadata": {
        "colab": {
          "base_uri": "https://localhost:8080/"
        },
        "id": "UKlaHhvIxZHL",
        "outputId": "54241ce0-9a95-4222-d520-0d6fb9f58ba0"
      },
      "execution_count": null,
      "outputs": [
        {
          "output_type": "stream",
          "name": "stdout",
          "text": [
            "list after removing duplicates: [1, 2, 3, 4, 5]\n"
          ]
        }
      ]
    },
    {
      "cell_type": "code",
      "source": [
        "numbers=[1,2,3,4,3,5,6]\n",
        "numbers=[1,2,3,4,3,5,6]\n",
        "target_sum=6\n",
        "\n",
        "pairs=[]\n",
        "\n",
        "for index1 in range(0,len(numbers)):\n",
        "  for index2 in range(index1+1,len(numbers)):\n",
        "    if numbers[index1]+numbers[index2]==target_sum:\n",
        "      pairs.append([numbers[index1],numbers[index2]])\n",
        "\n",
        "print(\"pairs that add upto 6:\",pairs)\n"
      ],
      "metadata": {
        "colab": {
          "base_uri": "https://localhost:8080/"
        },
        "id": "Xq69BJW1yT7B",
        "outputId": "0bc54b3c-823a-4b8c-c77e-173841cc78f2"
      },
      "execution_count": null,
      "outputs": [
        {
          "output_type": "stream",
          "name": "stdout",
          "text": [
            "pairs that add upto 6: [[1, 5], [2, 4], [3, 3]]\n"
          ]
        }
      ]
    },
    {
      "cell_type": "code",
      "source": [
        "nested_list=[1,[2,3],[4,[5,6],7],8]\n",
        "flattened_list=[]\n",
        "\n",
        "for i in range(0,len(nested_list)):\n",
        "  item=nested_list[i]\n",
        "\n",
        "  if type(item)==list:\n",
        "    for j in range(0,len(item)):\n",
        "      inner_item=item[j]\n",
        "\n",
        "      if type(inner_item)==list:\n",
        "        for k in range(0,len(inner_item)):\n",
        "          flattened_list.append(inner_item[k])\n",
        "      else:\n",
        "        flattened_list.append(inner_item)\n",
        "  else:\n",
        "    flattened_list.append(item)\n",
        "\n",
        "print(\"Flattened list:\",flattened_list)\n"
      ],
      "metadata": {
        "id": "CJEvnsVf097G",
        "colab": {
          "base_uri": "https://localhost:8080/"
        },
        "outputId": "1a361201-35a6-46b3-ab1d-a619f0f47a77"
      },
      "execution_count": 1,
      "outputs": [
        {
          "output_type": "stream",
          "name": "stdout",
          "text": [
            "Flattened list: [1, 2, 3, 4, 5, 6, 7, 8]\n"
          ]
        }
      ]
    },
    {
      "cell_type": "code",
      "source": [
        "numbers = [1, 2, 3, 4, 5]\n",
        "\n",
        "max = numbers[0]\n",
        "min = numbers[0]\n",
        "total = 0\n",
        "\n",
        "for i in range(len(numbers)):\n",
        "    num = numbers[i]\n",
        "    total += num\n",
        "\n",
        "    if num > max:\n",
        "        max = num\n",
        "\n",
        "    if num < min:\n",
        "        min = num\n",
        "\n",
        "sum = total - max - min\n",
        "\n",
        "print(\"Sum excluding the largest and smallest element:\", sum)\n"
      ],
      "metadata": {
        "colab": {
          "base_uri": "https://localhost:8080/"
        },
        "id": "DM9bg0q-Y00C",
        "outputId": "336da5b7-6f8b-4d6e-8f0a-d0cf6c402d44"
      },
      "execution_count": 2,
      "outputs": [
        {
          "output_type": "stream",
          "name": "stdout",
          "text": [
            "Sum excluding the largest and smallest element: 9\n"
          ]
        }
      ]
    }
  ]
}