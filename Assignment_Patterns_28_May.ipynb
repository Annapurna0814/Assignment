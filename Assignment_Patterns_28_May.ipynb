{
  "nbformat": 4,
  "nbformat_minor": 0,
  "metadata": {
    "colab": {
      "provenance": []
    },
    "kernelspec": {
      "name": "python3",
      "display_name": "Python 3"
    },
    "language_info": {
      "name": "python"
    }
  },
  "cells": [
    {
      "cell_type": "code",
      "execution_count": null,
      "metadata": {
        "colab": {
          "base_uri": "https://localhost:8080/"
        },
        "id": "YBzo2CO8RzTE",
        "outputId": "b8e2e225-cb6a-4532-a6af-055170603c21"
      },
      "outputs": [
        {
          "output_type": "stream",
          "name": "stdout",
          "text": [
            "* * * * \n",
            "* * * \n",
            "* * \n",
            "* \n"
          ]
        }
      ],
      "source": [
        "rows=4\n",
        "\n",
        "for i in range(rows,0,-1):\n",
        "  for j in range(i):\n",
        "    print('*',end=' ')\n",
        "  print( )"
      ]
    },
    {
      "cell_type": "code",
      "source": [
        "num=10\n",
        "rows=3\n",
        "\n",
        "for i in range(1,rows+1):\n",
        "  for j in range(i):\n",
        "    print(num,end='  ')\n",
        "    num+=1\n",
        "  print( )"
      ],
      "metadata": {
        "colab": {
          "base_uri": "https://localhost:8080/"
        },
        "id": "rBOdDirpUZVd",
        "outputId": "20d14117-ac58-4091-b575-d0e8c1be5709"
      },
      "execution_count": null,
      "outputs": [
        {
          "output_type": "stream",
          "name": "stdout",
          "text": [
            "10  \n",
            "11  12  \n",
            "13  14  15  \n"
          ]
        }
      ]
    },
    {
      "cell_type": "code",
      "source": [
        "num=10\n",
        "rows=4\n",
        "\n",
        "for i in range(rows):\n",
        "  for j in range(i+1):\n",
        "    print(num+j,end=' ')\n",
        "  print( )"
      ],
      "metadata": {
        "colab": {
          "base_uri": "https://localhost:8080/"
        },
        "id": "XGwYGtpgVhRf",
        "outputId": "199808ad-0bac-4606-e4e4-f9841e741878"
      },
      "execution_count": null,
      "outputs": [
        {
          "output_type": "stream",
          "name": "stdout",
          "text": [
            "10 \n",
            "10 11 \n",
            "10 11 12 \n",
            "10 11 12 13 \n"
          ]
        }
      ]
    },
    {
      "cell_type": "code",
      "source": [
        "rows=4\n",
        "for i in range(rows):\n",
        "  for j in range(i+1):\n",
        "    print(chr(65+j),end=' ')\n",
        "  print( )"
      ],
      "metadata": {
        "colab": {
          "base_uri": "https://localhost:8080/"
        },
        "id": "l_tB9YGtWE2r",
        "outputId": "97cf55ed-5b5d-4892-98c1-8fa785286188"
      },
      "execution_count": null,
      "outputs": [
        {
          "output_type": "stream",
          "name": "stdout",
          "text": [
            "A \n",
            "A B \n",
            "A B C \n",
            "A B C D \n"
          ]
        }
      ]
    },
    {
      "cell_type": "code",
      "source": [
        "rows=4\n",
        "for i in range(rows):\n",
        "  for j in range(i+1):\n",
        "    print(chr(68-j),end=' ')\n",
        "  print( )"
      ],
      "metadata": {
        "colab": {
          "base_uri": "https://localhost:8080/"
        },
        "id": "gPtI9DwXWzMA",
        "outputId": "f7abeec6-57d5-4b62-997a-7f14e00d2efd"
      },
      "execution_count": null,
      "outputs": [
        {
          "output_type": "stream",
          "name": "stdout",
          "text": [
            "D \n",
            "D C \n",
            "D C B \n",
            "D C B A \n"
          ]
        }
      ]
    },
    {
      "cell_type": "code",
      "source": [
        "rows=4\n",
        "\n",
        "for i in range(rows):\n",
        "  for j in range(rows-i):\n",
        "    print(chr(68-j),end=' ')\n",
        "  print( )"
      ],
      "metadata": {
        "colab": {
          "base_uri": "https://localhost:8080/"
        },
        "id": "d4ghzTisXuOQ",
        "outputId": "a9bfba19-22d9-4464-b076-8e20f3b8769d"
      },
      "execution_count": null,
      "outputs": [
        {
          "output_type": "stream",
          "name": "stdout",
          "text": [
            "D C B A \n",
            "D C B \n",
            "D C \n",
            "D \n"
          ]
        }
      ]
    },
    {
      "cell_type": "code",
      "source": [
        "rows = 5\n",
        "\n",
        "for i in range(1, rows + 1):\n",
        "    for j in range(1, i + 1):\n",
        "        if j % 2 == 1:\n",
        "            print(1, end=' ')\n",
        "        else:\n",
        "            print(2, end=' ')\n",
        "    print()\n"
      ],
      "metadata": {
        "colab": {
          "base_uri": "https://localhost:8080/"
        },
        "id": "sMN8fB1MbRn-",
        "outputId": "bfaf1f29-ad0e-45bc-db82-ef46b0586b3f"
      },
      "execution_count": null,
      "outputs": [
        {
          "output_type": "stream",
          "name": "stdout",
          "text": [
            "1 \n",
            "1 2 \n",
            "1 2 1 \n",
            "1 2 1 2 \n",
            "1 2 1 2 1 \n"
          ]
        }
      ]
    },
    {
      "cell_type": "code",
      "source": [
        "rows=4\n",
        "ascii_code=70\n",
        "\n",
        "for i in range(1,rows+1):\n",
        "  for j in range(i):\n",
        "    print(chr(ascii_code),end=' ')\n",
        "    ascii_code+=2\n",
        "  print( )"
      ],
      "metadata": {
        "colab": {
          "base_uri": "https://localhost:8080/"
        },
        "id": "3wKQvUlHbgA3",
        "outputId": "eed1003b-401d-4c37-8223-8dfff2ab967a"
      },
      "execution_count": null,
      "outputs": [
        {
          "output_type": "stream",
          "name": "stdout",
          "text": [
            "F \n",
            "H J \n",
            "L N P \n",
            "R T V X \n"
          ]
        }
      ]
    },
    {
      "cell_type": "code",
      "source": [
        "rows=4\n",
        "\n",
        "for i in range(rows):\n",
        "  for j in range(i):\n",
        "    print(' ',end=' ')\n",
        "  for k in range(rows-i):\n",
        "      print('*',end=' ')\n",
        "  print( )\n",
        "\n"
      ],
      "metadata": {
        "colab": {
          "base_uri": "https://localhost:8080/"
        },
        "id": "JWsPQj7kdA2u",
        "outputId": "4ea38f5e-5523-45d4-9942-73765a5bf30d"
      },
      "execution_count": null,
      "outputs": [
        {
          "output_type": "stream",
          "name": "stdout",
          "text": [
            "* * * * \n",
            "  * * * \n",
            "    * * \n",
            "      * \n"
          ]
        }
      ]
    },
    {
      "cell_type": "code",
      "source": [
        "for i in range(1, 5):\n",
        "    for j in range(1, i + 1):\n",
        "        print(j, end=' ')\n",
        "    print()"
      ],
      "metadata": {
        "colab": {
          "base_uri": "https://localhost:8080/"
        },
        "id": "7dALqcyJestw",
        "outputId": "de7c0192-d712-4c5f-86f4-2e1678d0118e"
      },
      "execution_count": null,
      "outputs": [
        {
          "output_type": "stream",
          "name": "stdout",
          "text": [
            "1 \n",
            "1 2 \n",
            "1 2 3 \n",
            "1 2 3 4 \n"
          ]
        }
      ]
    },
    {
      "cell_type": "code",
      "source": [
        "count = 1\n",
        "for i in range(1, 5):\n",
        "    for j in range(i):\n",
        "        print(count, end=' ')\n",
        "        count += 1\n",
        "    print()"
      ],
      "metadata": {
        "colab": {
          "base_uri": "https://localhost:8080/"
        },
        "id": "nmDWuStyeuf6",
        "outputId": "498c8a01-175d-4215-bc5a-73517f9edd1d"
      },
      "execution_count": null,
      "outputs": [
        {
          "output_type": "stream",
          "name": "stdout",
          "text": [
            "1 \n",
            "2 3 \n",
            "4 5 6 \n",
            "7 8 9 10 \n"
          ]
        }
      ]
    },
    {
      "cell_type": "code",
      "source": [
        "count = 10\n",
        "for i in range(1, 5):\n",
        "    for j in range(i):\n",
        "        print(count, end=' ')\n",
        "        count -= 1\n",
        "    print()"
      ],
      "metadata": {
        "colab": {
          "base_uri": "https://localhost:8080/"
        },
        "id": "3cwmsaNZfVoY",
        "outputId": "a4ea6781-2165-4187-b8e4-7e8b0d88a9b4"
      },
      "execution_count": null,
      "outputs": [
        {
          "output_type": "stream",
          "name": "stdout",
          "text": [
            "10 \n",
            "9 8 \n",
            "7 6 5 \n",
            "4 3 2 1 \n"
          ]
        }
      ]
    },
    {
      "cell_type": "code",
      "source": [
        "ch = 65\n",
        "for i in range(1, 4):\n",
        "    for j in range(i):\n",
        "        print(chr(ch), end=' ')\n",
        "        ch += 1\n",
        "    print()"
      ],
      "metadata": {
        "colab": {
          "base_uri": "https://localhost:8080/"
        },
        "id": "Ku-62A1PfcA-",
        "outputId": "5c77f601-d774-42b8-ee02-e29fd88134c4"
      },
      "execution_count": null,
      "outputs": [
        {
          "output_type": "stream",
          "name": "stdout",
          "text": [
            "A \n",
            "B C \n",
            "D E F \n"
          ]
        }
      ]
    },
    {
      "cell_type": "code",
      "source": [
        "ch = 90\n",
        "for i in range(1, 4):\n",
        "    for j in range(i):\n",
        "        print(chr(ch), end=' ')\n",
        "        ch -= 2\n",
        "    print()"
      ],
      "metadata": {
        "colab": {
          "base_uri": "https://localhost:8080/"
        },
        "id": "IvO8zOSKgYBD",
        "outputId": "18d08256-1b2f-483d-e986-f7e8d9bf6eba"
      },
      "execution_count": null,
      "outputs": [
        {
          "output_type": "stream",
          "name": "stdout",
          "text": [
            "Z \n",
            "X V \n",
            "T R P \n"
          ]
        }
      ]
    },
    {
      "cell_type": "code",
      "source": [
        "rows = 5\n",
        "for i in range(rows):\n",
        "    for j in range(i + 1):\n",
        "        if j == 0 or j == i or i == rows - 1:\n",
        "            print('*', end=' ')\n",
        "        else:\n",
        "            print(' ', end=' ')\n",
        "    print()"
      ],
      "metadata": {
        "colab": {
          "base_uri": "https://localhost:8080/"
        },
        "id": "6hZMGJtnhNse",
        "outputId": "7dab6faf-aeaa-43b2-ebbf-4062f66ce1be"
      },
      "execution_count": null,
      "outputs": [
        {
          "output_type": "stream",
          "name": "stdout",
          "text": [
            "* \n",
            "* * \n",
            "*   * \n",
            "*     * \n",
            "* * * * * \n"
          ]
        }
      ]
    },
    {
      "cell_type": "code",
      "source": [
        "num = 1\n",
        "ch = ord('a')\n",
        "for i in range(1, 5):\n",
        "    for j in range(i):\n",
        "        print(f\"{num}{chr(ch)}\", end=' ')\n",
        "        num += 1\n",
        "        ch+= 1\n",
        "    print()"
      ],
      "metadata": {
        "colab": {
          "base_uri": "https://localhost:8080/"
        },
        "id": "yT7PnSSRhYqw",
        "outputId": "20e3bb19-b076-4438-98a5-9041df504143"
      },
      "execution_count": null,
      "outputs": [
        {
          "output_type": "stream",
          "name": "stdout",
          "text": [
            "1a \n",
            "2b 3c \n",
            "4d 5e 6f \n",
            "7g 8h 9i 10j \n"
          ]
        }
      ]
    },
    {
      "cell_type": "code",
      "source": [],
      "metadata": {
        "id": "s-xIVn-vlFLP"
      },
      "execution_count": null,
      "outputs": []
    }
  ]
}