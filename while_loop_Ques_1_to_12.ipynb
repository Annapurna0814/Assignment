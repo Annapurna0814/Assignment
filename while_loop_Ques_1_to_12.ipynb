{
  "nbformat": 4,
  "nbformat_minor": 0,
  "metadata": {
    "colab": {
      "provenance": [],
      "authorship_tag": "ABX9TyP0H5aUwKN8SxpqLNE621xB",
      "include_colab_link": true
    },
    "kernelspec": {
      "name": "python3",
      "display_name": "Python 3"
    },
    "language_info": {
      "name": "python"
    }
  },
  "cells": [
    {
      "cell_type": "markdown",
      "metadata": {
        "id": "view-in-github",
        "colab_type": "text"
      },
      "source": [
        "<a href=\"https://colab.research.google.com/github/Annapurna0814/TOC-if-else/blob/main/while_loop_Ques_1_to_12.ipynb\" target=\"_parent\"><img src=\"https://colab.research.google.com/assets/colab-badge.svg\" alt=\"Open In Colab\"/></a>"
      ]
    },
    {
      "cell_type": "code",
      "execution_count": null,
      "metadata": {
        "colab": {
          "base_uri": "https://localhost:8080/"
        },
        "id": "HDTyKoXUeeum",
        "outputId": "b765fec9-1dfa-41e2-9704-360f76a0e38e"
      },
      "outputs": [
        {
          "output_type": "stream",
          "name": "stdout",
          "text": [
            "Enter value of n:25\n",
            "1 2 3 4 5 6 7 8 9 10 11 12 13 14 15 16 17 18 19 20 21 22 23 24 25 "
          ]
        }
      ],
      "source": [
        "n=int(input(\"Enter value of n:\"))\n",
        "\n",
        "i=1\n",
        "while i<=n:\n",
        "  print(i,end=' ')\n",
        "  i+=1"
      ]
    },
    {
      "cell_type": "code",
      "source": [
        "n=int(input(\"Enter value of n:\"))\n",
        "\n",
        "while n>=1:\n",
        "  print(n,end=' ')\n",
        "  n-=1"
      ],
      "metadata": {
        "colab": {
          "base_uri": "https://localhost:8080/"
        },
        "id": "UfLms632gHoR",
        "outputId": "209246a6-fe4e-4a77-a5f4-db10471141f5"
      },
      "execution_count": null,
      "outputs": [
        {
          "output_type": "stream",
          "name": "stdout",
          "text": [
            "Enter value of n:5\n",
            "5 4 3 2 1 "
          ]
        }
      ]
    },
    {
      "cell_type": "code",
      "source": [
        "letter='a'\n",
        "\n",
        "while letter <='z':\n",
        "  print(letter,end=' ')\n",
        "  letter=chr(ord(letter)+1)"
      ],
      "metadata": {
        "colab": {
          "base_uri": "https://localhost:8080/"
        },
        "id": "7nhxQO6YhBFQ",
        "outputId": "ae73fe01-8938-4208-e911-f5ee6d3e846e"
      },
      "execution_count": null,
      "outputs": [
        {
          "output_type": "stream",
          "name": "stdout",
          "text": [
            "a b c d e f g h i j k l m n o p q r s t u v w x y z "
          ]
        }
      ]
    },
    {
      "cell_type": "code",
      "source": [
        "num=2\n",
        "\n",
        "while num<=100:\n",
        "  print(num,end=' ')\n",
        "  num+=1"
      ],
      "metadata": {
        "colab": {
          "base_uri": "https://localhost:8080/"
        },
        "id": "QF4xq8kmh95R",
        "outputId": "c9972218-976a-425c-9828-147ef2f817a0"
      },
      "execution_count": null,
      "outputs": [
        {
          "output_type": "stream",
          "name": "stdout",
          "text": [
            "2 3 4 5 6 7 8 9 10 11 12 13 14 15 16 17 18 19 20 21 22 23 24 25 26 27 28 29 30 31 32 33 34 35 36 37 38 39 40 41 42 43 44 45 46 47 48 49 50 51 52 53 54 55 56 57 58 59 60 61 62 63 64 65 66 67 68 69 70 71 72 73 74 75 76 77 78 79 80 81 82 83 84 85 86 87 88 89 90 91 92 93 94 95 96 97 98 99 100 "
          ]
        }
      ]
    },
    {
      "cell_type": "code",
      "source": [
        "n=int(input(\"Enter value of n:\"))\n",
        "\n",
        "i=1\n",
        "sum_odd=0\n",
        "\n",
        "while i<=n:\n",
        "  if i%2!=0:\n",
        "    sum_odd+=i\n",
        "  i+=1\n",
        "\n",
        "print(\"Sum of all odd numbers;\",sum_odd)"
      ],
      "metadata": {
        "colab": {
          "base_uri": "https://localhost:8080/"
        },
        "id": "REHOgWLwiJ0k",
        "outputId": "eeb38150-6c40-4676-e395-2bf7f1667951"
      },
      "execution_count": null,
      "outputs": [
        {
          "output_type": "stream",
          "name": "stdout",
          "text": [
            "Enter value of n:5\n",
            "Sum of all odd numbers: 9\n"
          ]
        }
      ]
    },
    {
      "cell_type": "code",
      "source": [
        "num=int(input(\"Enter number:\"))\n",
        "count=0\n",
        "\n",
        "if num==0:\n",
        "   count=1\n",
        "else:\n",
        "  while num>0:\n",
        "    num//=10\n",
        "    count+=1\n",
        "print(\"Number of digits in number:\",count)"
      ],
      "metadata": {
        "colab": {
          "base_uri": "https://localhost:8080/"
        },
        "id": "wju_4F95mQmx",
        "outputId": "ac32e828-bb41-4d89-ab0d-3c545203bf8f"
      },
      "execution_count": null,
      "outputs": [
        {
          "output_type": "stream",
          "name": "stdout",
          "text": [
            "Enter number:562\n",
            "Number of digits in number: 3\n"
          ]
        }
      ]
    },
    {
      "cell_type": "code",
      "source": [
        "num=int(input(\"Enter number:\"))\n",
        "sum=0\n",
        "\n",
        "if num==0:\n",
        "  sum=0\n",
        "else:\n",
        "  while num>0:\n",
        "    digit=num%10\n",
        "    sum+=digit\n",
        "    num//=10\n",
        "print(\"Sum of the digits:\",sum)"
      ],
      "metadata": {
        "colab": {
          "base_uri": "https://localhost:8080/"
        },
        "id": "DwP91HEKoH31",
        "outputId": "01f7a45e-84c9-4d34-bdc0-be9a4286697e"
      },
      "execution_count": null,
      "outputs": [
        {
          "output_type": "stream",
          "name": "stdout",
          "text": [
            "Enter number:156\n",
            "Sum of the digits: 12\n"
          ]
        }
      ]
    },
    {
      "cell_type": "code",
      "source": [
        "num=int(input(\"Enter number:\"))\n",
        "\n",
        "last_digit=num%10\n",
        "first_digit=num\n",
        "\n",
        "while first_digit>=10:\n",
        "  first_digit//=10\n",
        "\n",
        "print(\"first digit:\",first_digit)\n",
        "print(\"last digit:\",last_digit)\n"
      ],
      "metadata": {
        "colab": {
          "base_uri": "https://localhost:8080/"
        },
        "id": "_AkqWs07C0Bh",
        "outputId": "bdbac135-df5a-4a62-91b0-261687c1752f"
      },
      "execution_count": null,
      "outputs": [
        {
          "output_type": "stream",
          "name": "stdout",
          "text": [
            "Enter number:145632\n",
            "first digit: 1\n",
            "last digit: 2\n"
          ]
        }
      ]
    },
    {
      "cell_type": "code",
      "source": [
        "num=int(input(\"Enter number:\"))\n",
        "\n",
        "last_digit=num%10\n",
        "first_digit=num\n",
        "sum_digits=0\n",
        "\n",
        "while first_digit>=10:\n",
        "      first_digit//=10\n",
        "      sum_digits=first_digit+last_digit\n",
        "\n",
        "print(\"first digit:\",first_digit)\n",
        "print(\"last digit:\",last_digit)\n",
        "print(\"sum of digits:\",sum_digits)\n"
      ],
      "metadata": {
        "colab": {
          "base_uri": "https://localhost:8080/"
        },
        "id": "cmCmqlf7GPC3",
        "outputId": "06d27989-1000-429f-9cf3-0d1ebb2ad652"
      },
      "execution_count": null,
      "outputs": [
        {
          "output_type": "stream",
          "name": "stdout",
          "text": [
            "Enter number:1234\n",
            "first digit: 1\n",
            "last digit: 4\n",
            "sum of digits: 5\n"
          ]
        }
      ]
    },
    {
      "cell_type": "code",
      "source": [
        "num=int(input(\"Enter number:\"))\n",
        "\n",
        "reverse_num=0\n",
        "\n",
        "while num>0:\n",
        "  digit=num%10\n",
        "  reverse_num=reverse_num*10+digit\n",
        "  num//=10\n",
        "\n",
        "print(\"reverse num:\", reverse_num)\n"
      ],
      "metadata": {
        "colab": {
          "base_uri": "https://localhost:8080/"
        },
        "id": "Els7UcJyKp7h",
        "outputId": "00c2eebc-6e84-4051-f077-adbdb9fa1365"
      },
      "execution_count": null,
      "outputs": [
        {
          "output_type": "stream",
          "name": "stdout",
          "text": [
            "Enter number:14563\n",
            "reverse num: 36541\n"
          ]
        }
      ]
    },
    {
      "cell_type": "code",
      "source": [
        "base=int(input(\"enter base:\"))\n",
        "exponent=int(input(\"Enter exponent:\"))\n",
        "\n",
        "result=1\n",
        "\n",
        "while exponent>0:\n",
        "  result*=base\n",
        "  exponent-=1\n",
        "\n",
        "print(\"Result:\",result)"
      ],
      "metadata": {
        "colab": {
          "base_uri": "https://localhost:8080/"
        },
        "id": "MySzEXpxOFFE",
        "outputId": "069bad06-2856-49d0-b83e-45fa9962ba53"
      },
      "execution_count": null,
      "outputs": [
        {
          "output_type": "stream",
          "name": "stdout",
          "text": [
            "enter base:2\n",
            "Enter exponent:3\n",
            "Result: 8\n"
          ]
        }
      ]
    },
    {
      "cell_type": "code",
      "source": [
        "num=int(input(\"Enter number:\"))\n",
        "\n",
        "i=1\n",
        "\n",
        "print(f\"Factors of {num} are: \")\n",
        "\n",
        "while i<=num:\n",
        "  if num%i==0:\n",
        "   print(i,end=' ')\n",
        "  i+=1"
      ],
      "metadata": {
        "colab": {
          "base_uri": "https://localhost:8080/"
        },
        "id": "JDsG5PU_VCRS",
        "outputId": "1021333d-cff5-4eae-e80a-526281c79174"
      },
      "execution_count": null,
      "outputs": [
        {
          "output_type": "stream",
          "name": "stdout",
          "text": [
            "Enter number:24\n",
            "Factors of 24 are: \n",
            "1 2 3 4 6 8 12 24 "
          ]
        }
      ]
    }
  ]
}