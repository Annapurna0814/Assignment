{
  "nbformat": 4,
  "nbformat_minor": 0,
  "metadata": {
    "colab": {
      "provenance": []
    },
    "kernelspec": {
      "name": "python3",
      "display_name": "Python 3"
    },
    "language_info": {
      "name": "python"
    }
  },
  "cells": [
    {
      "cell_type": "code",
      "execution_count": 3,
      "metadata": {
        "colab": {
          "base_uri": "https://localhost:8080/"
        },
        "id": "WggOZfTORrOA",
        "outputId": "3ec2dee4-bb36-4478-b93c-6e0ed9e0bae9"
      },
      "outputs": [
        {
          "output_type": "stream",
          "name": "stdout",
          "text": [
            "enter number:145\n",
            "first digit: 1\n",
            "last digit: 5\n"
          ]
        }
      ],
      "source": [
        "num=int(input(\"enter number:\"))\n",
        "if num<0:\n",
        "  print(\"Enter number:\")\n",
        "else:\n",
        "  original_num=num\n",
        "  last_digit=num%10\n",
        "for digit in range(0,num):\n",
        "  if num<10:\n",
        "    first_digit=num\n",
        "    break\n",
        "  num=num//10\n",
        "\n",
        "print(\"first digit:\",first_digit)\n",
        "print(\"last digit:\",last_digit)"
      ]
    },
    {
      "cell_type": "code",
      "source": [
        "num=int(input(\"enter number:\"))\n",
        "if num<0:\n",
        "  print(\"enter number:\")\n",
        "else:\n",
        "  original_num=num\n",
        "  last_digit=num%10\n",
        "  for digit in range(0,num):\n",
        "    if num<10:\n",
        "      first_digit=num\n",
        "      break\n",
        "      num=num//10\n",
        "\n",
        "sum_digits=first_digit+last_digit\n",
        "print(\"sum of first digit & last digit=\",sum_digits)\n"
      ],
      "metadata": {
        "colab": {
          "base_uri": "https://localhost:8080/"
        },
        "id": "obZ8MZkGS-CF",
        "outputId": "938ce0a0-3d1e-4e3c-e98d-01e2ef4c1769"
      },
      "execution_count": 6,
      "outputs": [
        {
          "output_type": "stream",
          "name": "stdout",
          "text": [
            "enter number:1465\n",
            "sum of first digit & last digit= 6\n"
          ]
        }
      ]
    },
    {
      "cell_type": "code",
      "source": [
        "num=int(input(\"Enter number:\"))\n",
        "\n",
        "if num<0:\n",
        "  print(\"enter number:\")\n",
        "else:\n",
        "  original_num=num\n",
        "  reversed_num=0\n",
        "for i in range(0,num):\n",
        "  if num==0:\n",
        "    break\n",
        "  digit=num%10\n",
        "  reversed_num=reversed_num*10+digit\n",
        "  num//=10\n",
        "\n",
        "print(\"original number:\",original_num)\n",
        "print(\"Reversed number:\",reversed_num)"
      ],
      "metadata": {
        "colab": {
          "base_uri": "https://localhost:8080/"
        },
        "id": "UH71sLimUcy-",
        "outputId": "2e3f69ad-990d-4a46-9570-fc4e07d970d6"
      },
      "execution_count": 7,
      "outputs": [
        {
          "output_type": "stream",
          "name": "stdout",
          "text": [
            "Enter number:2563\n",
            "original number: 2563\n",
            "Reversed number: 3652\n"
          ]
        }
      ]
    },
    {
      "cell_type": "code",
      "source": [
        "base=int(input(\"enter base:\"))\n",
        "exponent=int(input(\"enter exponent:\"))\n",
        "\n",
        "if exponent<0:\n",
        "  print(\"enter exponent:\")\n",
        "else:\n",
        "  result=1\n",
        "  for number in range(exponent):\n",
        "    result*=base\n",
        "print(\"power of a number:\",result)"
      ],
      "metadata": {
        "colab": {
          "base_uri": "https://localhost:8080/"
        },
        "id": "Ljvm0RfWVWgw",
        "outputId": "b04f0e7b-8870-4b63-bb0b-fced00904451"
      },
      "execution_count": 11,
      "outputs": [
        {
          "output_type": "stream",
          "name": "stdout",
          "text": [
            "enter base:5\n",
            "enter exponent:3\n",
            "power of a number: 125\n"
          ]
        }
      ]
    },
    {
      "cell_type": "code",
      "source": [
        "num=int(input(\"enter number:\"))\n",
        "\n",
        "if num<=0:\n",
        "  print(\"enter number\")\n",
        "else:\n",
        "  print(\"Factors of number:\")\n",
        "\n",
        "for i in range(1,num+1):\n",
        "  if num%i==0:\n",
        "    print(i)"
      ],
      "metadata": {
        "colab": {
          "base_uri": "https://localhost:8080/"
        },
        "id": "7H38DVT8Wa4W",
        "outputId": "2f68b2c9-e704-4ad7-be2f-121a84a39770"
      },
      "execution_count": 12,
      "outputs": [
        {
          "output_type": "stream",
          "name": "stdout",
          "text": [
            "enter number:42\n",
            "Factors of number:\n",
            "1\n",
            "2\n",
            "3\n",
            "6\n",
            "7\n",
            "14\n",
            "21\n",
            "42\n"
          ]
        }
      ]
    },
    {
      "cell_type": "code",
      "source": [
        "n=int(input(\"enter number:\"))\n",
        "\n",
        "i=1\n",
        "sum_odd=0\n",
        "\n",
        "while i<=n:\n",
        "  if i%2!=0:\n",
        "    sum_odd+=i\n",
        "  i+=1\n",
        "\n",
        "print(\"sum of odd numbers:\",sum_odd)"
      ],
      "metadata": {
        "colab": {
          "base_uri": "https://localhost:8080/"
        },
        "id": "nsxmdM90W6s-",
        "outputId": "9e8039ab-4835-4199-cf39-2b8470c4bc4d"
      },
      "execution_count": 14,
      "outputs": [
        {
          "output_type": "stream",
          "name": "stdout",
          "text": [
            "enter number:10\n",
            "sum of odd numbers: 25\n"
          ]
        }
      ]
    },
    {
      "cell_type": "code",
      "source": [
        "num=int(input(\"enter number:\"))\n",
        "count=0\n",
        "\n",
        "if num==0:\n",
        "  count=1\n",
        "else:\n",
        "  while num>0:\n",
        "    num=num//10\n",
        "    count+=1\n",
        "print(\"digits in number\",count)"
      ],
      "metadata": {
        "colab": {
          "base_uri": "https://localhost:8080/"
        },
        "id": "gudpqxFBXgnc",
        "outputId": "71ac2176-776d-40fc-b51a-dfb6d773bd51"
      },
      "execution_count": 16,
      "outputs": [
        {
          "output_type": "stream",
          "name": "stdout",
          "text": [
            "enter number:5632\n",
            "digits in number 4\n"
          ]
        }
      ]
    },
    {
      "cell_type": "code",
      "source": [
        "num=int(input(\"enter number:\"))\n",
        "sum=0\n",
        "\n",
        "if num==0:\n",
        "  sum=0\n",
        "else:\n",
        "  while num>0:\n",
        "    digit=num%10\n",
        "    sum+=digit\n",
        "    num//=10\n",
        "\n",
        "print(\"sum of digits:\",sum)"
      ],
      "metadata": {
        "colab": {
          "base_uri": "https://localhost:8080/"
        },
        "id": "gd8fNhwZYB-Y",
        "outputId": "86dbd29e-1442-48bf-adf4-735c98ece4c9"
      },
      "execution_count": 19,
      "outputs": [
        {
          "output_type": "stream",
          "name": "stdout",
          "text": [
            "enter number:156\n",
            "sum of digits: 12\n"
          ]
        }
      ]
    },
    {
      "cell_type": "code",
      "source": [
        "num=int(input(\"enter number\"))\n",
        "\n",
        "last_digit=num%10\n",
        "first_digit=num\n",
        "\n",
        "while first_digit>=10:\n",
        "  first_digit//=10\n",
        "\n",
        "print(\"first digit\",first_digit)\n",
        "print(\"last digit\",last_digit)"
      ],
      "metadata": {
        "colab": {
          "base_uri": "https://localhost:8080/"
        },
        "id": "_OUg2P5uYoat",
        "outputId": "55111cfe-cb53-45e5-f7c6-ec8055bdef50"
      },
      "execution_count": 20,
      "outputs": [
        {
          "output_type": "stream",
          "name": "stdout",
          "text": [
            "enter number1489\n",
            "first digit 1\n",
            "last digit 9\n"
          ]
        }
      ]
    },
    {
      "cell_type": "code",
      "source": [
        "num=int(input(\"enter number:\"))\n",
        "if num<0:\n",
        "  print(\"factorial is not defined\")\n",
        "else:\n",
        "  factorial=1\n",
        "  for i in range(1,num+1):\n",
        "    factorial*=i\n",
        "print(\"factorial of number:\",factorial)"
      ],
      "metadata": {
        "colab": {
          "base_uri": "https://localhost:8080/"
        },
        "id": "XDvGYMeeZgSq",
        "outputId": "1d055a2c-6c12-4e10-bbf9-db0cfdb3c105"
      },
      "execution_count": 21,
      "outputs": [
        {
          "output_type": "stream",
          "name": "stdout",
          "text": [
            "enter number:4\n",
            "factorial of number: 24\n"
          ]
        }
      ]
    },
    {
      "cell_type": "code",
      "source": [
        "num1=int(input(\"enter number:\"))\n",
        "num2=int(input(\"enter number:\"))\n",
        "\n",
        "if num1>num2:\n",
        "  greater=num1\n",
        "else:\n",
        "  greater=num2\n",
        "for i in range(greater,(num1*num2)+1):\n",
        "  if i%num1==0 and i%num2==0:\n",
        "    lcm=i\n",
        "    break\n",
        "print(\"lcm:\",lcm)\n"
      ],
      "metadata": {
        "colab": {
          "base_uri": "https://localhost:8080/"
        },
        "id": "0Ib5DprnZFCo",
        "outputId": "7be28d59-78e0-4563-9fa7-992912a2c624"
      },
      "execution_count": 22,
      "outputs": [
        {
          "output_type": "stream",
          "name": "stdout",
          "text": [
            "enter number:5\n",
            "enter number:6\n",
            "lcm: 30\n"
          ]
        }
      ]
    },
    {
      "cell_type": "code",
      "source": [
        "num=int(input(\"enter number:\"))\n",
        "\n",
        "if num<=1:\n",
        "  print(\"num is not prime\")\n",
        "else:\n",
        "  count=0\n",
        "\n",
        "  for i in range(2,num):\n",
        "    if num%i==0:\n",
        "      count+=1\n",
        "      break\n",
        "\n",
        "if count==0:\n",
        "  print(num,\"prime\")\n",
        "else:\n",
        "  print(num,\"is not prime\")"
      ],
      "metadata": {
        "colab": {
          "base_uri": "https://localhost:8080/"
        },
        "id": "MsbzdSYpa09d",
        "outputId": "3ed73b86-d3b0-4fd6-dddc-506be831be4c"
      },
      "execution_count": 24,
      "outputs": [
        {
          "output_type": "stream",
          "name": "stdout",
          "text": [
            "enter number:42\n",
            "42 is not prime\n"
          ]
        }
      ]
    },
    {
      "cell_type": "code",
      "source": [
        "n=int(input(\"enter number:\"))\n",
        "\n",
        "for num in range(2,n+1):\n",
        "  count=0\n",
        "  for i in range(2,num):\n",
        "    if num%i==0:\n",
        "      count+=1\n",
        "      break\n",
        "  if count==0:\n",
        "    print(num)"
      ],
      "metadata": {
        "colab": {
          "base_uri": "https://localhost:8080/"
        },
        "id": "ymNJd6NXbj7F",
        "outputId": "cfaf6e94-4bab-42e2-c0c3-2919902f863a"
      },
      "execution_count": 39,
      "outputs": [
        {
          "output_type": "stream",
          "name": "stdout",
          "text": [
            "enter number:17\n",
            "2\n",
            "3\n",
            "5\n",
            "7\n",
            "11\n",
            "13\n",
            "17\n"
          ]
        }
      ]
    }
  ]
}