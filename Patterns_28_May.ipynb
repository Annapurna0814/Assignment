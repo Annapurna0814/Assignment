{
  "nbformat": 4,
  "nbformat_minor": 0,
  "metadata": {
    "colab": {
      "provenance": [],
      "authorship_tag": "ABX9TyNwv7mtjD+iJxm8HcJZ0OUi",
      "include_colab_link": true
    },
    "kernelspec": {
      "name": "python3",
      "display_name": "Python 3"
    },
    "language_info": {
      "name": "python"
    }
  },
  "cells": [
    {
      "cell_type": "markdown",
      "metadata": {
        "id": "view-in-github",
        "colab_type": "text"
      },
      "source": [
        "<a href=\"https://colab.research.google.com/github/Annapurna0814/Assignment/blob/main/Patterns_28_May.ipynb\" target=\"_parent\"><img src=\"https://colab.research.google.com/assets/colab-badge.svg\" alt=\"Open In Colab\"/></a>"
      ]
    },
    {
      "cell_type": "code",
      "execution_count": 1,
      "metadata": {
        "colab": {
          "base_uri": "https://localhost:8080/"
        },
        "id": "y9YgQIyo_u86",
        "outputId": "d9eda8f0-0490-4ccf-e975-6f14055de48b"
      },
      "outputs": [
        {
          "output_type": "stream",
          "name": "stdout",
          "text": [
            "1 \n",
            "1 2 \n",
            "1 2 3 \n",
            "1 2 3 4 \n",
            "1 2 3 4 5 \n"
          ]
        }
      ],
      "source": [
        "for i in range(1,6):\n",
        "  for j in range(1,1+i):\n",
        "    print(j,end=' ')\n",
        "  print( )"
      ]
    },
    {
      "cell_type": "code",
      "source": [
        "for i in range(1,6):\n",
        "  for j in range(1,i+1):\n",
        "    print('-',end=' ')\n",
        "  for k in range(1,5-i+1):\n",
        "    print('*',end=' ')\n",
        "  print( )"
      ],
      "metadata": {
        "colab": {
          "base_uri": "https://localhost:8080/"
        },
        "id": "L147fpq1BtpS",
        "outputId": "77e6243e-9c3b-48cf-fb5b-57a321edc434"
      },
      "execution_count": 25,
      "outputs": [
        {
          "output_type": "stream",
          "name": "stdout",
          "text": [
            "- * * * * \n",
            "- - * * * \n",
            "- - - * * \n",
            "- - - - * \n",
            "- - - - - \n"
          ]
        }
      ]
    },
    {
      "cell_type": "code",
      "source": [
        "for i in range(1,6):\n",
        "  for j in range(1,5-i+1):\n",
        "    print('-',end=' ')\n",
        "  for k in range(i):\n",
        "    print('*',end=' ')\n",
        "  print( )"
      ],
      "metadata": {
        "colab": {
          "base_uri": "https://localhost:8080/"
        },
        "id": "2frZXSU_R3w_",
        "outputId": "0fad82db-67db-452d-95e8-87f4b12ac00d"
      },
      "execution_count": 27,
      "outputs": [
        {
          "output_type": "stream",
          "name": "stdout",
          "text": [
            "- - - - * \n",
            "- - - * * \n",
            "- - * * * \n",
            "- * * * * \n",
            "* * * * * \n"
          ]
        }
      ]
    },
    {
      "cell_type": "code",
      "source": [
        "for i in range(1, 6):\n",
        "    for k in range(1, i + 1):\n",
        "        print(k, end=' ')\n",
        "    X = 65\n",
        "    for j in range(1, 5 - i+1):\n",
        "        print(chr(X), end=' ')\n",
        "        X += 1\n",
        "    print()"
      ],
      "metadata": {
        "colab": {
          "base_uri": "https://localhost:8080/"
        },
        "id": "yTxaKRFKTHHl",
        "outputId": "b7a6fdd5-8039-457f-9cc5-d580059fbd52"
      },
      "execution_count": 36,
      "outputs": [
        {
          "output_type": "stream",
          "name": "stdout",
          "text": [
            "1 A B C D \n",
            "1 2 A B C \n",
            "1 2 3 A B \n",
            "1 2 3 4 A \n",
            "1 2 3 4 5 \n"
          ]
        }
      ]
    },
    {
      "cell_type": "code",
      "source": [
        "for i in range(1,6):\n",
        "  for k in range(1,i+1):\n",
        "    if(k==1 or i==5 or i==k):\n",
        "      print('*',end=' ')\n",
        "    else:\n",
        "      print('-',end=' ')\n",
        "  print( )"
      ],
      "metadata": {
        "colab": {
          "base_uri": "https://localhost:8080/"
        },
        "id": "y_tTSzg6XB94",
        "outputId": "fac74c13-0433-4bc9-ced9-9ac8ca4410f6"
      },
      "execution_count": 47,
      "outputs": [
        {
          "output_type": "stream",
          "name": "stdout",
          "text": [
            "* \n",
            "* * \n",
            "* - * \n",
            "* - - * \n",
            "* * * * * \n"
          ]
        }
      ]
    },
    {
      "cell_type": "code",
      "source": [
        "for i in range(5,0,-1):\n",
        "  for k in range(1,i+1):\n",
        "    if(k==1 or i==5 or i==k):\n",
        "      print('*',end=' ')\n",
        "    else:\n",
        "      print('-',end=' ')\n",
        "  print( )"
      ],
      "metadata": {
        "colab": {
          "base_uri": "https://localhost:8080/"
        },
        "id": "Rit0SgWtGL8J",
        "outputId": "f5471f54-b681-40aa-e0e2-46d1ea305d5a"
      },
      "execution_count": 14,
      "outputs": [
        {
          "output_type": "stream",
          "name": "stdout",
          "text": [
            "* * * * * \n",
            "* - - * \n",
            "* - * \n",
            "* * \n",
            "* \n"
          ]
        }
      ]
    },
    {
      "cell_type": "code",
      "source": [
        "for i in range(1, 6):\n",
        "    for j in range(1, i):\n",
        "        print('-', end=' ')\n",
        "    for k in range(1, 6 - i + 1):\n",
        "        if k == 1 or k == 5 - i + 1 or i == 1:\n",
        "            print('*', end=' ')\n",
        "        else:\n",
        "            print(' ', end=' ')\n",
        "    print()"
      ],
      "metadata": {
        "colab": {
          "base_uri": "https://localhost:8080/"
        },
        "id": "BRhsH5Y9Yufe",
        "outputId": "219957d3-03fa-4d30-a2c6-b2496ddf6e79"
      },
      "execution_count": 52,
      "outputs": [
        {
          "output_type": "stream",
          "name": "stdout",
          "text": [
            "* * * * * \n",
            "- *     * \n",
            "- - *   * \n",
            "- - - * * \n",
            "- - - - * \n"
          ]
        }
      ]
    }
  ]
}