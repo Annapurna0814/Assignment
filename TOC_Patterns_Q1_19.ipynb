{
  "nbformat": 4,
  "nbformat_minor": 0,
  "metadata": {
    "colab": {
      "provenance": []
    },
    "kernelspec": {
      "name": "python3",
      "display_name": "Python 3"
    },
    "language_info": {
      "name": "python"
    }
  },
  "cells": [
    {
      "cell_type": "code",
      "execution_count": 4,
      "metadata": {
        "colab": {
          "base_uri": "https://localhost:8080/"
        },
        "id": "BajmfTkoFMeF",
        "outputId": "6dfce088-204a-46f9-b74e-336afe0ef5fa"
      },
      "outputs": [
        {
          "output_type": "stream",
          "name": "stdout",
          "text": [
            "* * * * \n",
            "  * * * * \n",
            "    * * * * \n",
            "      * * * * \n"
          ]
        }
      ],
      "source": [
        "for i in range(1,5):\n",
        "    for j in range(1,i-1+1):\n",
        "        print(\" \", end=\" \")\n",
        "    for k in range(1,5):\n",
        "        print(\"*\", end=\" \")\n",
        "    print()\n"
      ]
    },
    {
      "cell_type": "code",
      "source": [
        "for i in range(1, 5):\n",
        "    for j in range(1, 7):\n",
        "        if i == 1 or i == 4 or j == 1 or j == 6:\n",
        "            print(\"*\", end=\"\")\n",
        "        else:\n",
        "            print(\" \", end=\"\")\n",
        "    print()"
      ],
      "metadata": {
        "colab": {
          "base_uri": "https://localhost:8080/"
        },
        "id": "JpKDO5UqGwLB",
        "outputId": "f12f4cce-7226-46c0-8224-ed816e169cac"
      },
      "execution_count": 12,
      "outputs": [
        {
          "output_type": "stream",
          "name": "stdout",
          "text": [
            "******\n",
            "*    *\n",
            "*    *\n",
            "******\n"
          ]
        }
      ]
    },
    {
      "cell_type": "code",
      "source": [
        "for i in range (1,6):\n",
        "  for j in range(1,i+1):\n",
        "    print(chr(64+j),end=\" \")\n",
        "  print( )"
      ],
      "metadata": {
        "colab": {
          "base_uri": "https://localhost:8080/"
        },
        "id": "Kz52yhETIkvh",
        "outputId": "aa1e8b40-f2bb-4b8e-db24-6375ef322e58"
      },
      "execution_count": 25,
      "outputs": [
        {
          "output_type": "stream",
          "name": "stdout",
          "text": [
            "A \n",
            "A B \n",
            "A B C \n",
            "A B C D \n",
            "A B C D E \n"
          ]
        }
      ]
    },
    {
      "cell_type": "code",
      "source": [
        "for i in range (1,6):\n",
        "  for j in range(1,i+1):\n",
        "    print(chr(64+i),end=\" \")\n",
        "  print( )"
      ],
      "metadata": {
        "colab": {
          "base_uri": "https://localhost:8080/"
        },
        "id": "FjFAYlmcJWMW",
        "outputId": "66f5c588-93be-44fd-81a4-ad4c36017def"
      },
      "execution_count": 29,
      "outputs": [
        {
          "output_type": "stream",
          "name": "stdout",
          "text": [
            "A \n",
            "B B \n",
            "C C C \n",
            "D D D D \n",
            "E E E E E \n"
          ]
        }
      ]
    },
    {
      "cell_type": "code",
      "source": [
        "for i in range(5, 0, -1):\n",
        "    for j in range(i, 6):\n",
        "        print(chr(64 + j), end=\" \")\n",
        "    print()"
      ],
      "metadata": {
        "colab": {
          "base_uri": "https://localhost:8080/"
        },
        "id": "liGRoHlXKMLr",
        "outputId": "f2e723cc-84f5-469c-d999-38cd7a902cee"
      },
      "execution_count": 32,
      "outputs": [
        {
          "output_type": "stream",
          "name": "stdout",
          "text": [
            "E \n",
            "D E \n",
            "C D E \n",
            "B C D E \n",
            "A B C D E \n"
          ]
        }
      ]
    },
    {
      "cell_type": "code",
      "source": [
        "for i in range(1, 6):\n",
        "    for j in range(5 - i):\n",
        "        print(\" \", end=\" \")\n",
        "    for k in range(i):\n",
        "        print(\"*\", end=\" \")\n",
        "    print()"
      ],
      "metadata": {
        "colab": {
          "base_uri": "https://localhost:8080/"
        },
        "id": "AVBY2xPRKs6u",
        "outputId": "798af0d0-286e-471e-875e-aebe39b8d963"
      },
      "execution_count": 38,
      "outputs": [
        {
          "output_type": "stream",
          "name": "stdout",
          "text": [
            "        * \n",
            "      * * \n",
            "    * * * \n",
            "  * * * * \n",
            "* * * * * \n"
          ]
        }
      ]
    },
    {
      "cell_type": "code",
      "source": [
        "for i in range(1, 6):\n",
        "    for j in range(5 - i):\n",
        "        print(\" \", end=\" \")\n",
        "    for k in range(1, i + 1):\n",
        "        print(k, end=\" \")\n",
        "    print()"
      ],
      "metadata": {
        "colab": {
          "base_uri": "https://localhost:8080/"
        },
        "id": "Mexm6pPNMEYZ",
        "outputId": "e0a234c0-b540-42b0-9c9d-22f2b53fc7c9"
      },
      "execution_count": 39,
      "outputs": [
        {
          "output_type": "stream",
          "name": "stdout",
          "text": [
            "        1 \n",
            "      1 2 \n",
            "    1 2 3 \n",
            "  1 2 3 4 \n",
            "1 2 3 4 5 \n"
          ]
        }
      ]
    },
    {
      "cell_type": "code",
      "source": [
        "for i in range(5, 0, -1):\n",
        "    for j in range(5 - i):\n",
        "        print(\"  \", end=\"\")\n",
        "    x = 65\n",
        "    for k in range(i):\n",
        "        print(chr(x), end=\" \")\n",
        "        x += 1\n",
        "    print()\n"
      ],
      "metadata": {
        "colab": {
          "base_uri": "https://localhost:8080/"
        },
        "id": "Q5tR6Or2MgoV",
        "outputId": "0c7847ab-44fd-45b9-936e-04263033e199"
      },
      "execution_count": 49,
      "outputs": [
        {
          "output_type": "stream",
          "name": "stdout",
          "text": [
            "A B C D E \n",
            "  A B C D \n",
            "    A B C \n",
            "      A B \n",
            "        A \n"
          ]
        }
      ]
    },
    {
      "cell_type": "code",
      "source": [
        "for i in range(5, 0, -1):\n",
        "    for j in range(5 - i+1):\n",
        "        print(\"  \", end=\"\")\n",
        "    for k in range(1,i+1):\n",
        "        print(k, end=\" \")\n",
        "    print()\n"
      ],
      "metadata": {
        "colab": {
          "base_uri": "https://localhost:8080/"
        },
        "id": "NdMi2pjNOay9",
        "outputId": "85a60d2f-bf3a-4c99-91e1-e5cfb97b4780"
      },
      "execution_count": 58,
      "outputs": [
        {
          "output_type": "stream",
          "name": "stdout",
          "text": [
            "  1 2 3 4 5 \n",
            "    1 2 3 4 \n",
            "      1 2 3 \n",
            "        1 2 \n",
            "          1 \n"
          ]
        }
      ]
    },
    {
      "cell_type": "code",
      "source": [
        "for i in range(1,6):\n",
        "    for j in range(6-i):\n",
        "      print('', end=' ')\n",
        "    for k in range(1,6):\n",
        "      print(\"*\",end=\" \")\n",
        "    print()\n"
      ],
      "metadata": {
        "colab": {
          "base_uri": "https://localhost:8080/"
        },
        "id": "vBTkar7WPRhO",
        "outputId": "07878725-7303-433e-aa57-eb1c77cb0d62"
      },
      "execution_count": 70,
      "outputs": [
        {
          "output_type": "stream",
          "name": "stdout",
          "text": [
            "     * * * * * \n",
            "    * * * * * \n",
            "   * * * * * \n",
            "  * * * * * \n",
            " * * * * * \n"
          ]
        }
      ]
    },
    {
      "cell_type": "code",
      "source": [
        "for i in range(1,6):\n",
        "    for j in range(6-i):\n",
        "      print('', end=' ')\n",
        "    for k in range(1,6):\n",
        "      print(k,end=\" \")\n",
        "    print()"
      ],
      "metadata": {
        "colab": {
          "base_uri": "https://localhost:8080/"
        },
        "id": "P0IvxKucR-v-",
        "outputId": "4c1c5a4c-62e8-42b5-ba47-bef2938f6587"
      },
      "execution_count": 71,
      "outputs": [
        {
          "output_type": "stream",
          "name": "stdout",
          "text": [
            "     1 2 3 4 5 \n",
            "    1 2 3 4 5 \n",
            "   1 2 3 4 5 \n",
            "  1 2 3 4 5 \n",
            " 1 2 3 4 5 \n"
          ]
        }
      ]
    },
    {
      "cell_type": "code",
      "source": [
        "for i in range(1,6):\n",
        "    for j in range(6-i):\n",
        "      print('', end=' ')\n",
        "      x=65\n",
        "    for k in range(1,6):\n",
        "      print(chr(x),end=\" \")\n",
        "      x+=1\n",
        "    print()"
      ],
      "metadata": {
        "colab": {
          "base_uri": "https://localhost:8080/"
        },
        "id": "J2bmmDr9SH-z",
        "outputId": "275d93f8-b9e9-48fd-bd59-3c545e8384ef"
      },
      "execution_count": 76,
      "outputs": [
        {
          "output_type": "stream",
          "name": "stdout",
          "text": [
            "     A B C D E \n",
            "    A B C D E \n",
            "   A B C D E \n",
            "  A B C D E \n",
            " A B C D E \n"
          ]
        }
      ]
    },
    {
      "cell_type": "code",
      "source": [
        "for i in range(1,5):\n",
        "  for j in range(4-i):\n",
        "    print(\" \",end=\"\")\n",
        "  for k in range(2*i-1):\n",
        "    print(\"*\",end=\"\")\n",
        "  print( )"
      ],
      "metadata": {
        "colab": {
          "base_uri": "https://localhost:8080/"
        },
        "id": "1mheUSsVSdK5",
        "outputId": "1d133e0a-71d6-4863-9b79-b21163e846fa"
      },
      "execution_count": 81,
      "outputs": [
        {
          "output_type": "stream",
          "name": "stdout",
          "text": [
            "   *\n",
            "  ***\n",
            " *****\n",
            "*******\n"
          ]
        }
      ]
    },
    {
      "cell_type": "code",
      "source": [
        "for i in range(1,5):\n",
        "  for j in range(1,8):\n",
        "      if i==4 or i+j==5 or j-i==3:\n",
        "        print(\"*\",end=\"\")\n",
        "      else:\n",
        "        print(\" \",end=\"\")\n",
        "  print()"
      ],
      "metadata": {
        "colab": {
          "base_uri": "https://localhost:8080/"
        },
        "id": "8xBn-LneXAtb",
        "outputId": "f7e4f75a-4165-4a58-c88d-a473b43544e3"
      },
      "execution_count": 88,
      "outputs": [
        {
          "output_type": "stream",
          "name": "stdout",
          "text": [
            "   *   \n",
            "  * *  \n",
            " *   * \n",
            "*******\n"
          ]
        }
      ]
    },
    {
      "cell_type": "code",
      "source": [
        "for i in range(1,5):\n",
        "  for j in range(i):\n",
        "    print(\" \",end=\"\")\n",
        "  for k in range(2*(5-i)-1):\n",
        "    print(\"*\",end=\"\")\n",
        "  print( )"
      ],
      "metadata": {
        "colab": {
          "base_uri": "https://localhost:8080/"
        },
        "id": "o85hLl9Jab1s",
        "outputId": "57e949fb-f2e2-499f-f2a8-cc2f08cb68ba"
      },
      "execution_count": 95,
      "outputs": [
        {
          "output_type": "stream",
          "name": "stdout",
          "text": [
            " *******\n",
            "  *****\n",
            "   ***\n",
            "    *\n"
          ]
        }
      ]
    },
    {
      "cell_type": "code",
      "source": [
        "for i in range(1, 5):\n",
        "    for j in range(i):\n",
        "        print(\"*\", end=\"\")\n",
        "    print()\n",
        "\n",
        "for i in range(3, 0, -1):\n",
        "    for k in range(i):\n",
        "        print(\"*\", end=\"\")\n",
        "    print()\n"
      ],
      "metadata": {
        "colab": {
          "base_uri": "https://localhost:8080/"
        },
        "id": "ZHGya1Qtc6Dj",
        "outputId": "e4575e42-31dd-4468-a480-039abacaeeb3"
      },
      "execution_count": 97,
      "outputs": [
        {
          "output_type": "stream",
          "name": "stdout",
          "text": [
            "*\n",
            "**\n",
            "***\n",
            "****\n",
            "***\n",
            "**\n",
            "*\n"
          ]
        }
      ]
    },
    {
      "cell_type": "code",
      "source": [
        "for i in range(1, 5):\n",
        "    for j in range(4 - i):\n",
        "        print(\" \", end=\"\")\n",
        "    for k in range(i):\n",
        "        print(\"*\", end=\"\")\n",
        "    print()\n",
        "\n",
        "for i in range(3, 0, -1):\n",
        "    for j in range(4 - i):\n",
        "        print(\" \", end=\"\")\n",
        "    for k in range(i):\n",
        "        print(\"*\", end=\"\")\n",
        "    print()\n"
      ],
      "metadata": {
        "colab": {
          "base_uri": "https://localhost:8080/"
        },
        "id": "ParFd15Gd2ZM",
        "outputId": "58e51ef0-e3c8-4e9e-d76a-bded52e4a3b4"
      },
      "execution_count": 99,
      "outputs": [
        {
          "output_type": "stream",
          "name": "stdout",
          "text": [
            "   *\n",
            "  **\n",
            " ***\n",
            "****\n",
            " ***\n",
            "  **\n",
            "   *\n"
          ]
        }
      ]
    },
    {
      "cell_type": "code",
      "source": [
        "for i in range(1, 5):\n",
        "    for j in range(4 - i):\n",
        "        print(\" \", end=\"\")\n",
        "    for k in range(1,2*i):\n",
        "        print(\"*\", end=\"\")\n",
        "    print()\n",
        "\n",
        "for i in range(3, 0, -1):\n",
        "    for j in range(4 - i):\n",
        "        print(\" \", end=\"\")\n",
        "    for k in range(1,2*i):\n",
        "        print(\"*\", end=\"\")\n",
        "    print()\n"
      ],
      "metadata": {
        "colab": {
          "base_uri": "https://localhost:8080/"
        },
        "id": "vkHFm8C2eD1D",
        "outputId": "c99199c9-7a88-4726-b5b1-3516b251de87"
      },
      "execution_count": 100,
      "outputs": [
        {
          "output_type": "stream",
          "name": "stdout",
          "text": [
            "   *\n",
            "  ***\n",
            " *****\n",
            "*******\n",
            " *****\n",
            "  ***\n",
            "   *\n"
          ]
        }
      ]
    },
    {
      "cell_type": "code",
      "source": [
        "for i in range(1, 6):\n",
        "    for j in range(1,i+1):\n",
        "        print(j, end=\" \")\n",
        "    print()"
      ],
      "metadata": {
        "colab": {
          "base_uri": "https://localhost:8080/"
        },
        "id": "HPW-CP-AgJs2",
        "outputId": "1520fd97-3bab-48ac-ba9c-1edbeef626c2"
      },
      "execution_count": 102,
      "outputs": [
        {
          "output_type": "stream",
          "name": "stdout",
          "text": [
            "1 \n",
            "1 2 \n",
            "1 2 3 \n",
            "1 2 3 4 \n",
            "1 2 3 4 5 \n"
          ]
        }
      ]
    },
    {
      "cell_type": "code",
      "source": [
        "for i in range(5, 0, -1):\n",
        "    for j in range(1, i + 1):\n",
        "        print(j, end=\" \")\n",
        "    print()"
      ],
      "metadata": {
        "colab": {
          "base_uri": "https://localhost:8080/"
        },
        "id": "_4MXvwTpgxa-",
        "outputId": "24bfaa85-8db4-4d24-a314-5671b24c36ed"
      },
      "execution_count": 103,
      "outputs": [
        {
          "output_type": "stream",
          "name": "stdout",
          "text": [
            "1 2 3 4 5 \n",
            "1 2 3 4 \n",
            "1 2 3 \n",
            "1 2 \n",
            "1 \n"
          ]
        }
      ]
    },
    {
      "cell_type": "code",
      "source": [
        "for i in range(1,6):\n",
        "    for j in range(1, i + 1):\n",
        "        if j == 1 or j == i or i == 5:\n",
        "            print(j, end=\" \")\n",
        "        else:\n",
        "            print(\"  \", end=\"\")\n",
        "    print()\n"
      ],
      "metadata": {
        "colab": {
          "base_uri": "https://localhost:8080/"
        },
        "id": "wyApVGBbhH1d",
        "outputId": "01e33dfb-b89d-43e7-ce20-fe0256d87e2a"
      },
      "execution_count": 104,
      "outputs": [
        {
          "output_type": "stream",
          "name": "stdout",
          "text": [
            "1 \n",
            "1 2 \n",
            "1   3 \n",
            "1     4 \n",
            "1 2 3 4 5 \n"
          ]
        }
      ]
    },
    {
      "cell_type": "code",
      "source": [
        "for i in range(1,6):\n",
        "   for j in range(6-i):\n",
        "      print(\" \", end=\" \")\n",
        "\n",
        "   num=i\n",
        "   for j in range(i):\n",
        "      print(num, end=\" \")\n",
        "      num+=1\n",
        "\n",
        "   num-=2\n",
        "   for j in range(i-1):\n",
        "      print(num, end=\" \")\n",
        "      num-=1\n",
        "\n",
        "   print()"
      ],
      "metadata": {
        "colab": {
          "base_uri": "https://localhost:8080/"
        },
        "id": "JamW9781hXE7",
        "outputId": "8edf23bf-48f1-4d77-e51a-9b70d052d271"
      },
      "execution_count": 108,
      "outputs": [
        {
          "output_type": "stream",
          "name": "stdout",
          "text": [
            "          1 \n",
            "        2 3 2 \n",
            "      3 4 5 4 3 \n",
            "    4 5 6 7 6 5 4 \n",
            "  5 6 7 8 9 8 7 6 5 \n"
          ]
        }
      ]
    },
    {
      "cell_type": "code",
      "source": [
        "for i in range(1,6):\n",
        "    for j in range(6- i):\n",
        "        print(\" \", end=\"\")\n",
        "\n",
        "    for j in range(1, i + 1):\n",
        "        if j == 1 or j == i or i == 5:\n",
        "            print(j, end=\" \")\n",
        "        else:\n",
        "            print(\"  \", end=\"\")\n",
        "    print()\n"
      ],
      "metadata": {
        "colab": {
          "base_uri": "https://localhost:8080/"
        },
        "id": "GHeTfyjamKew",
        "outputId": "2f4d969f-f7e3-4cbc-bd70-ec0427ac40fa"
      },
      "execution_count": 109,
      "outputs": [
        {
          "output_type": "stream",
          "name": "stdout",
          "text": [
            "     1 \n",
            "    1 2 \n",
            "   1   3 \n",
            "  1     4 \n",
            " 1 2 3 4 5 \n"
          ]
        }
      ]
    },
    {
      "cell_type": "code",
      "source": [
        "for i in range(1, 6):\n",
        "    for j in range(i, 6):\n",
        "        if i==1 or j == i or j==5:\n",
        "            print(j, end=\" \")\n",
        "        else:\n",
        "            print(\" \", end=\" \")\n",
        "    print()"
      ],
      "metadata": {
        "colab": {
          "base_uri": "https://localhost:8080/"
        },
        "id": "JwVsK0g2mb7x",
        "outputId": "82b582ee-9f98-4445-d548-d19c8a220836"
      },
      "execution_count": 121,
      "outputs": [
        {
          "output_type": "stream",
          "name": "stdout",
          "text": [
            "1 2 3 4 5 \n",
            "2     5 \n",
            "3   5 \n",
            "4 5 \n",
            "5 \n"
          ]
        }
      ]
    },
    {
      "cell_type": "code",
      "source": [
        "for i in range(1, 6):\n",
        "    for j in range(5 - i):\n",
        "        print(\" \", end=\"\")\n",
        "    for k in range(1,2*i):\n",
        "        print(\"*\", end=\"\")\n",
        "    print()\n",
        "\n",
        "for i in range(4, 0, -1):\n",
        "    for j in range(5 - i):\n",
        "        print(\" \", end=\"\")\n",
        "    for k in range(1,2*i):\n",
        "        print(\"*\", end=\"\")\n",
        "    print()"
      ],
      "metadata": {
        "colab": {
          "base_uri": "https://localhost:8080/"
        },
        "id": "bDIkdLApo0eW",
        "outputId": "4cfc92e7-daee-43f1-c280-cb48af82d178"
      },
      "execution_count": 123,
      "outputs": [
        {
          "output_type": "stream",
          "name": "stdout",
          "text": [
            "    *\n",
            "   ***\n",
            "  *****\n",
            " *******\n",
            "*********\n",
            " *******\n",
            "  *****\n",
            "   ***\n",
            "    *\n"
          ]
        }
      ]
    },
    {
      "cell_type": "code",
      "source": [
        "for i in range(1,6):\n",
        "    for j in range(5 - i):\n",
        "        print(\"  \", end=\"\")\n",
        "    for k in range(1, 2 * i):\n",
        "        print(k, end=\" \")\n",
        "\n",
        "    print( )\n",
        "\n",
        "for i in range(4, 0, -1):\n",
        "    for j in range(5-i):\n",
        "        print(\" \", end=\" \")\n",
        "    for k in range(1,2*i):\n",
        "        print(k, end=\" \")\n",
        "\n",
        "    print( )\n"
      ],
      "metadata": {
        "colab": {
          "base_uri": "https://localhost:8080/"
        },
        "id": "CC5tDetkooza",
        "outputId": "79e8ba4d-b266-4669-e370-3c9a04ccefc5"
      },
      "execution_count": 141,
      "outputs": [
        {
          "output_type": "stream",
          "name": "stdout",
          "text": [
            "        1 \n",
            "      1 2 3 \n",
            "    1 2 3 4 5 \n",
            "  1 2 3 4 5 6 7 \n",
            "1 2 3 4 5 6 7 8 9 \n",
            "  1 2 3 4 5 6 7 \n",
            "    1 2 3 4 5 \n",
            "      1 2 3 \n",
            "        1 \n"
          ]
        }
      ]
    },
    {
      "cell_type": "code",
      "source": [],
      "metadata": {
        "id": "OGvNVcz7rWqt"
      },
      "execution_count": null,
      "outputs": []
    }
  ]
}