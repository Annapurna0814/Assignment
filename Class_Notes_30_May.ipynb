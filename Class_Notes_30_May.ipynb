{
  "nbformat": 4,
  "nbformat_minor": 0,
  "metadata": {
    "colab": {
      "provenance": []
    },
    "kernelspec": {
      "name": "python3",
      "display_name": "Python 3"
    },
    "language_info": {
      "name": "python"
    }
  },
  "cells": [
    {
      "cell_type": "code",
      "execution_count": 1,
      "metadata": {
        "colab": {
          "base_uri": "https://localhost:8080/"
        },
        "id": "TuIVyarZMsMO",
        "outputId": "d56fd957-b113-4b7c-985c-2f36286f780a"
      },
      "outputs": [
        {
          "output_type": "stream",
          "name": "stdout",
          "text": [
            "* * * * \n",
            "* * * \n",
            "* * \n",
            "* \n"
          ]
        }
      ],
      "source": [
        "for i in range(1,5):\n",
        "  for j in range(1,5-i+1):\n",
        "    print('*',end=' ')\n",
        "  print( )"
      ]
    },
    {
      "cell_type": "code",
      "source": [
        "for i in range(1,5):\n",
        "  for k in range(1,i-1+1):\n",
        "    print('-',end=' ')\n",
        "  print( )"
      ],
      "metadata": {
        "colab": {
          "base_uri": "https://localhost:8080/"
        },
        "id": "S1FpZD0ONrE3",
        "outputId": "ad268d9d-5051-43fe-b07b-7be2bbd1c61e"
      },
      "execution_count": 4,
      "outputs": [
        {
          "output_type": "stream",
          "name": "stdout",
          "text": [
            "\n",
            "- \n",
            "- - \n",
            "- - - \n"
          ]
        }
      ]
    },
    {
      "cell_type": "code",
      "source": [
        "for i in range(1,5):\n",
        "  for k in range(1,i-1+1):\n",
        "    print('-',end=' ')\n",
        "  for j in range(1,5-i+1):\n",
        "    print('*',end=' ')\n",
        "  print( )"
      ],
      "metadata": {
        "colab": {
          "base_uri": "https://localhost:8080/"
        },
        "id": "sxlNtZGDOAlM",
        "outputId": "707a25dc-b01d-4971-b538-81f47b0c398b"
      },
      "execution_count": 6,
      "outputs": [
        {
          "output_type": "stream",
          "name": "stdout",
          "text": [
            "* * * * \n",
            "- * * * \n",
            "- - * * \n",
            "- - - * \n"
          ]
        }
      ]
    },
    {
      "cell_type": "code",
      "source": [
        "for i in range(1,6):\n",
        "  for j in range(1,6-i):\n",
        "    print(' ',end=\" \")\n",
        "  for k in range(1,i+1):\n",
        "    print('*',end=\"   \")\n",
        "  print( )"
      ],
      "metadata": {
        "colab": {
          "base_uri": "https://localhost:8080/"
        },
        "id": "t3xAQtMsiKyb",
        "outputId": "c7aead9c-7182-4306-e624-4eb997c48b8b"
      },
      "execution_count": 52,
      "outputs": [
        {
          "output_type": "stream",
          "name": "stdout",
          "text": [
            "        *   \n",
            "      *   *   \n",
            "    *   *   *   \n",
            "  *   *   *   *   \n",
            "*   *   *   *   *   \n"
          ]
        }
      ]
    },
    {
      "cell_type": "code",
      "source": [
        "for i in range(1,6):\n",
        "  for k in range(1,i+1):\n",
        "    print(' ',end=\" \")\n",
        "  for j in range(1,6-i+1):\n",
        "    print('*',end=\"   \")\n",
        "  print( )"
      ],
      "metadata": {
        "colab": {
          "base_uri": "https://localhost:8080/"
        },
        "id": "3zW9E0RjjZC8",
        "outputId": "ad95721e-d6c7-4b18-fe1d-efcd4c2c3fcb"
      },
      "execution_count": 67,
      "outputs": [
        {
          "output_type": "stream",
          "name": "stdout",
          "text": [
            "  *   *   *   *   *   \n",
            "    *   *   *   *   \n",
            "      *   *   *   \n",
            "        *   *   \n",
            "          *   \n"
          ]
        }
      ]
    },
    {
      "cell_type": "code",
      "source": [
        "for i in range(1,6):\n",
        "  for j in range(1,6-i+1):\n",
        "    print('*',end=\" \")\n",
        "  for k in range(1,i):\n",
        "    print(' ',end=\" \")\n",
        "  print( )"
      ],
      "metadata": {
        "colab": {
          "base_uri": "https://localhost:8080/"
        },
        "id": "aeyD3ZdyRlvS",
        "outputId": "870adc4f-7da2-4fbf-be17-64278dc670eb"
      },
      "execution_count": 95,
      "outputs": [
        {
          "output_type": "stream",
          "name": "stdout",
          "text": [
            "* * * * * \n",
            "* * * *   \n",
            "* * *     \n",
            "* *       \n",
            "*         \n"
          ]
        }
      ]
    },
    {
      "cell_type": "code",
      "source": [
        "for i in range(1,5):\n",
        "  for j in range(1,i+2):\n",
        "    print('*',end=\" \")\n",
        "  for k in range(1,5-i+1):\n",
        "    print(' ',end=\" \")\n",
        "  print( )"
      ],
      "metadata": {
        "colab": {
          "base_uri": "https://localhost:8080/"
        },
        "id": "sswIzQulT5Lg",
        "outputId": "e45cc559-6556-4331-c6b7-38c2babb5e38"
      },
      "execution_count": 96,
      "outputs": [
        {
          "output_type": "stream",
          "name": "stdout",
          "text": [
            "* *         \n",
            "* * *       \n",
            "* * * *     \n",
            "* * * * *   \n"
          ]
        }
      ]
    },
    {
      "cell_type": "code",
      "source": [
        "for i in range(1,6):\n",
        "  for j in range(1,6-i+1):\n",
        "    print('*',end=\"\")\n",
        "  for k in range(1,i):\n",
        "    print(' ',end=\"\")\n",
        "  print( )\n",
        "\n",
        "for i in range(1,5):\n",
        "  for j in range(1,i+2):\n",
        "    print('*',end=\"\")\n",
        "  for k in range(1,5-i+1):\n",
        "    print(' ',end=\"\")\n",
        "  print( )"
      ],
      "metadata": {
        "colab": {
          "base_uri": "https://localhost:8080/"
        },
        "id": "dhdZkDZST_Tv",
        "outputId": "8938bc14-e2f5-42b4-a8a6-ca4fffa93c9d"
      },
      "execution_count": 99,
      "outputs": [
        {
          "output_type": "stream",
          "name": "stdout",
          "text": [
            "*****\n",
            "**** \n",
            "***  \n",
            "**   \n",
            "*    \n",
            "**    \n",
            "***   \n",
            "****  \n",
            "***** \n"
          ]
        }
      ]
    },
    {
      "cell_type": "code",
      "source": [
        "for i in range(1,6):\n",
        "  for j in range(1,6-i+1):\n",
        "    print('*',end=\" \")\n",
        "  print( )"
      ],
      "metadata": {
        "colab": {
          "base_uri": "https://localhost:8080/"
        },
        "id": "dES1JKfvWNnU",
        "outputId": "8c7d6d2c-fe76-45f7-83a9-9a4ee722a592"
      },
      "execution_count": 31,
      "outputs": [
        {
          "output_type": "stream",
          "name": "stdout",
          "text": [
            "* * * * * \n",
            "* * * * \n",
            "* * * \n",
            "* * \n",
            "* \n"
          ]
        }
      ]
    },
    {
      "cell_type": "code",
      "source": [
        "for i in range(1,6):\n",
        "  for j in range(1,i-1+1):\n",
        "    print('-',end=\" \")\n",
        "  print( )"
      ],
      "metadata": {
        "colab": {
          "base_uri": "https://localhost:8080/"
        },
        "id": "_3vBN11iWtVc",
        "outputId": "0303b574-0a6b-4ed6-b471-2d34ec38c36e"
      },
      "execution_count": 33,
      "outputs": [
        {
          "output_type": "stream",
          "name": "stdout",
          "text": [
            "\n",
            "- \n",
            "- - \n",
            "- - - \n",
            "- - - - \n"
          ]
        }
      ]
    },
    {
      "cell_type": "code",
      "source": [
        "for i in range(1,6):\n",
        "\n",
        "  for k in range(1,i-1+1):\n",
        "    print('-',end=\" \")\n",
        "  for j in range(1,6-i+1):\n",
        "    print('*',end=\" \")\n",
        "  print( )"
      ],
      "metadata": {
        "colab": {
          "base_uri": "https://localhost:8080/"
        },
        "id": "-_qLc0hAXAmL",
        "outputId": "dc3e24b9-3112-4417-cdb5-8cd15d104fe5"
      },
      "execution_count": 35,
      "outputs": [
        {
          "output_type": "stream",
          "name": "stdout",
          "text": [
            "* * * * * \n",
            "- * * * * \n",
            "- - * * * \n",
            "- - - * * \n",
            "- - - - * \n"
          ]
        }
      ]
    },
    {
      "cell_type": "code",
      "source": [
        "for i in range(1,5):\n",
        "\n",
        "  for k in range(1,5-i):\n",
        "    print('-',end=\" \")\n",
        "  for j in range(1,i+2):\n",
        "    print('*',end=\" \")\n",
        "  print( )"
      ],
      "metadata": {
        "colab": {
          "base_uri": "https://localhost:8080/"
        },
        "id": "Pbbyz8Q0Ykl1",
        "outputId": "5ee5bc9b-dedd-4229-eb5a-05d6e9e5a2be"
      },
      "execution_count": 45,
      "outputs": [
        {
          "output_type": "stream",
          "name": "stdout",
          "text": [
            "- - - * * \n",
            "- - * * * \n",
            "- * * * * \n",
            "* * * * * \n"
          ]
        }
      ]
    },
    {
      "cell_type": "code",
      "source": [
        "for i in range(1,6):\n",
        "\n",
        "  for k in range(1,i-1+1):\n",
        "    print('-',end=\" \")\n",
        "  for j in range(1,6-i+1):\n",
        "    print('*',end=\" \")\n",
        "  print( )\n",
        "\n",
        "for i in range(1,5):\n",
        "  for k in range(1,5-i):\n",
        "    print('-',end=\" \")\n",
        "  for j in range(1,i+2):\n",
        "    print('*',end=\" \")\n",
        "  print( )"
      ],
      "metadata": {
        "colab": {
          "base_uri": "https://localhost:8080/"
        },
        "id": "BiOMbPcJZHJM",
        "outputId": "8af4dcf9-0d1c-4927-9080-389f1ce1f29d"
      },
      "execution_count": 100,
      "outputs": [
        {
          "output_type": "stream",
          "name": "stdout",
          "text": [
            "* * * * * \n",
            "- * * * * \n",
            "- - * * * \n",
            "- - - * * \n",
            "- - - - * \n",
            "- - - * * \n",
            "- - * * * \n",
            "- * * * * \n",
            "* * * * * \n"
          ]
        }
      ]
    }
  ]
}