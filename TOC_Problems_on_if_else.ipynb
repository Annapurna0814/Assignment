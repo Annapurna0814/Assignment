{
  "nbformat": 4,
  "nbformat_minor": 0,
  "metadata": {
    "colab": {
      "provenance": [],
      "authorship_tag": "ABX9TyPW7kTXbl+gb5FFk25la0tC",
      "include_colab_link": true
    },
    "kernelspec": {
      "name": "python3",
      "display_name": "Python 3"
    },
    "language_info": {
      "name": "python"
    }
  },
  "cells": [
    {
      "cell_type": "markdown",
      "metadata": {
        "id": "view-in-github",
        "colab_type": "text"
      },
      "source": [
        "<a href=\"https://colab.research.google.com/github/Annapurna0814/TOC-if-else/blob/main/TOC_Problems_on_if_else.ipynb\" target=\"_parent\"><img src=\"https://colab.research.google.com/assets/colab-badge.svg\" alt=\"Open In Colab\"/></a>"
      ]
    },
    {
      "cell_type": "code",
      "execution_count": null,
      "metadata": {
        "colab": {
          "base_uri": "https://localhost:8080/"
        },
        "id": "rreAkqivWh-Q",
        "outputId": "e43b8078-a80f-428e-8c54-c34abd49675c"
      },
      "outputs": [
        {
          "output_type": "stream",
          "name": "stdout",
          "text": [
            "enter nummber:5\n",
            "Odd no\n"
          ]
        }
      ],
      "source": [
        "n=int(input(\"enter nummber:\"))\n",
        "if n%2==0:\n",
        "    print(\"Even no\")\n",
        "else:\n",
        "    print(\"Odd no\")"
      ]
    },
    {
      "cell_type": "code",
      "source": [
        "num1=float(input(\"enter 1st no:\"))\n",
        "num2=float(input(\"enter 2nd no:\"))\n",
        "num3=float(input(\"enter 3rd no:\"))\n",
        "if(num1>=num2)and(num1>=num3):\n",
        "  largest=num1\n",
        "elif(num2>=num1)and(num2>=num3):\n",
        "  largest=num2\n",
        "else:\n",
        "  largest=num3\n",
        "print(\"Largest no:\",largest)\n"
      ],
      "metadata": {
        "colab": {
          "base_uri": "https://localhost:8080/"
        },
        "id": "D9Mo_62YY_pj",
        "outputId": "4704056f-104e-46fd-afe2-37e5e14729e2"
      },
      "execution_count": null,
      "outputs": [
        {
          "output_type": "stream",
          "name": "stdout",
          "text": [
            "enter 1st no:25\n",
            "enter 2nd no:36\n",
            "enter 3rd no:14\n",
            "Largest no: 36.0\n"
          ]
        }
      ]
    },
    {
      "cell_type": "code",
      "source": [
        "year=int(input(\"Enter year:\"))\n",
        "\n",
        "if(year%4==0 and year%100!=0) or (year%400==0):\n",
        "  print(\"Leap Year\")\n",
        "else:\n",
        "  print(\"Not a Leap year\")"
      ],
      "metadata": {
        "colab": {
          "base_uri": "https://localhost:8080/"
        },
        "id": "zMiR5TpUbCzZ",
        "outputId": "28fa9a62-566f-4f34-fb11-f61d0309de66"
      },
      "execution_count": null,
      "outputs": [
        {
          "output_type": "stream",
          "name": "stdout",
          "text": [
            "Enter year:2024\n",
            "Leap Year\n"
          ]
        }
      ]
    },
    {
      "cell_type": "code",
      "source": [
        "percentage=int(input(\"Enter percentage:\"))\n",
        "if(percentage>=90):\n",
        "  print(\"Grade A\")\n",
        "elif(percentage>=80):\n",
        "  print(\"Grade B\")\n",
        "elif(percentage>=70):\n",
        "  print(\"Grade c\")\n",
        "elif(percentage>=60):\n",
        "  print(\"Grade D\")\n",
        "else:\n",
        "  print(\"Grade f\")\n",
        "\n"
      ],
      "metadata": {
        "colab": {
          "base_uri": "https://localhost:8080/"
        },
        "id": "pmhwWT8rc17a",
        "outputId": "bb5f5fa8-6055-410d-a38f-98401ce0fd19"
      },
      "execution_count": null,
      "outputs": [
        {
          "output_type": "stream",
          "name": "stdout",
          "text": [
            "Enter percentage:65\n",
            "Grade D\n"
          ]
        }
      ]
    },
    {
      "cell_type": "code",
      "source": [
        "letter = input(\"Enter a single letter: \")\n",
        "\n",
        "letter = letter.lower()\n",
        "\n",
        "if len(letter) == 1 and letter.isalpha():\n",
        "    if letter in ('a', 'e', 'i', 'o', 'u'):\n",
        "        print(\"vowel.\")\n",
        "    else:\n",
        "        print(\"consonant.\")\n",
        "\n"
      ],
      "metadata": {
        "colab": {
          "base_uri": "https://localhost:8080/"
        },
        "id": "Ag75gOv3fERk",
        "outputId": "9721481d-2342-4bb0-93ab-c8d9800110c1"
      },
      "execution_count": null,
      "outputs": [
        {
          "output_type": "stream",
          "name": "stdout",
          "text": [
            "Enter a single letter: u\n",
            "vowel.\n"
          ]
        }
      ]
    },
    {
      "cell_type": "code",
      "source": [
        "num1 = int(input(\"Enter the first number: \"))\n",
        "num2 = float(input(\"Enter the second number: \"))\n",
        "operator = input(\"Enter an operator (+, -, *, /): \")\n",
        "\n",
        "if operator == '+':\n",
        "    result = num1 + num2\n",
        "    print(f\"{num1}+{num2}={result}\")\n",
        "elif operator == '-':\n",
        "    result = num1 - num2\n",
        "    print(f\"{num1}-{num2}={result}\")\n",
        "elif operator == '*':\n",
        "    result = num1 * num2\n",
        "    print(f\"{num1}*{num2}={result}\")\n",
        "elif operator == '/':\n",
        "    if num2 != 0:\n",
        "        result = num1 / num2\n",
        "        print(f\"{num1/num2}\")\n",
        "    else:\n",
        "        print(\"Error: Division by zero is not allowed.\")\n",
        "else:\n",
        "    print(\"Invalid operator. Please enter one of +, -, *, /.\")\n"
      ],
      "metadata": {
        "colab": {
          "base_uri": "https://localhost:8080/"
        },
        "id": "BjHQAg6fj0H1",
        "outputId": "54e2a9fd-c397-4ea6-8b40-4809ec90e13f"
      },
      "execution_count": null,
      "outputs": [
        {
          "output_type": "stream",
          "name": "stdout",
          "text": [
            "Enter the first number: 45\n",
            "Enter the second number: 5\n",
            "Enter an operator (+, -, *, /): /\n",
            "9.0\n"
          ]
        }
      ]
    },
    {
      "cell_type": "code",
      "source": [
        "num = int(input(\"Enter number: \"))\n",
        "\n",
        "if (num > 0):\n",
        "    print(\"The number is positive.\")\n",
        "elif num < 0:\n",
        "    print(\"The number is negative.\")\n",
        "else:\n",
        "    print(\"The number is zero.\")\n"
      ],
      "metadata": {
        "colab": {
          "base_uri": "https://localhost:8080/"
        },
        "id": "3nCRvWpz38TP",
        "outputId": "f5c0a723-dc69-4ca4-de58-6225926fbf69"
      },
      "execution_count": null,
      "outputs": [
        {
          "output_type": "stream",
          "name": "stdout",
          "text": [
            "Enter number: 89\n",
            "The number is positive.\n"
          ]
        }
      ]
    },
    {
      "cell_type": "code",
      "source": [
        "username=\"admin\"\n",
        "password=\"1234\"\n",
        "\n",
        "input_username=input(\"Enter username:\")\n",
        "input_password=input(\"Enter password:\")\n",
        "\n",
        "if (input_username ==username and input_password ==password):\n",
        "  print(\"Login Successful\")\n",
        "else:\n",
        "  print(\"Login failed\")"
      ],
      "metadata": {
        "colab": {
          "base_uri": "https://localhost:8080/"
        },
        "id": "o6QUg5Za5NhV",
        "outputId": "700625d3-655f-4894-aff9-cbd08d0525d4"
      },
      "execution_count": null,
      "outputs": [
        {
          "output_type": "stream",
          "name": "stdout",
          "text": [
            "Enter username:suren\n",
            "Enter password:1456\n",
            "Login failed\n"
          ]
        }
      ]
    },
    {
      "cell_type": "code",
      "source": [
        "def is_valid_triangle(a, b, c):\n",
        "    return a + b > c and a + c > b and b + c > a\n",
        "a = float(input(\"Enter the length of side a: \"))\n",
        "b = float(input(\"Enter the length of side b: \"))\n",
        "c = float(input(\"Enter the length of side c: \"))\n",
        "\n",
        "if is_valid_triangle(a, b, c):\n",
        "    print(\"valid triangle.\")\n",
        "else:\n",
        "    print(\"invalid triangle.\")\n"
      ],
      "metadata": {
        "colab": {
          "base_uri": "https://localhost:8080/"
        },
        "id": "31AXf7ZM9igc",
        "outputId": "c510f552-e13a-4243-cc24-a3f2499598ea"
      },
      "execution_count": null,
      "outputs": [
        {
          "output_type": "stream",
          "name": "stdout",
          "text": [
            "Enter the length of side a: 2\n",
            "Enter the length of side b: 6\n",
            "Enter the length of side c: 5\n",
            "valid triangle.\n"
          ]
        }
      ]
    },
    {
      "cell_type": "code",
      "source": [
        "weight = float(input(\"Enter weight in kilograms: \"))\n",
        "height = float(input(\"Enter height in meters: \"))\n",
        "\n",
        "bmi = weight / (height ** 2)\n",
        "\n",
        "print(f\"Your BMI is: {bmi:.2f}\")\n",
        "\n",
        "if bmi < 18.5:\n",
        "    print(\"underweight.\")\n",
        "elif 18.5 <= bmi < 24.9:\n",
        "    print(\"normal weight.\")\n",
        "elif 25 <= bmi < 29.9:\n",
        "    print(\"overweight.\")\n",
        "else:\n",
        "    print(\"obese.\")\n"
      ],
      "metadata": {
        "colab": {
          "base_uri": "https://localhost:8080/"
        },
        "id": "6WOTAYQ4_yzN",
        "outputId": "a079e097-4735-4d76-f8b1-fbc33fa787b3"
      },
      "execution_count": null,
      "outputs": [
        {
          "output_type": "stream",
          "name": "stdout",
          "text": [
            "Enter weight in kilograms: 70\n",
            "Enter height in meters: 1.75\n",
            "Your BMI is: 22.86\n",
            "normal weight.\n"
          ]
        }
      ]
    },
    {
      "cell_type": "code",
      "source": [
        "price = float(input(\"Enter the price of the product: ₹\"))\n",
        "\n",
        "if price > 1000:\n",
        "    discount_percentage = 10\n",
        "elif 500 <= price <= 1000:\n",
        "    discount_percentage = 5\n",
        "else:\n",
        "    discount_percentage = 0\n",
        "\n",
        "discount_amount = (discount_percentage / 100) * price\n",
        "\n",
        "final_price = price - discount_amount\n",
        "\n",
        "print(f\"Original Price: ₹{price:.2f}\")\n",
        "print(f\"Discount Applied: {discount_percentage}%\")\n",
        "print(f\"Discount Amount: ₹{discount_amount:.2f}\")\n",
        "print(f\"Final Price after Discount: ₹{final_price:.2f}\")\n"
      ],
      "metadata": {
        "colab": {
          "base_uri": "https://localhost:8080/"
        },
        "id": "5IxMiQ259EYr",
        "outputId": "d99e4ddb-dcc1-48f2-c42a-475e262d4af0"
      },
      "execution_count": null,
      "outputs": [
        {
          "output_type": "stream",
          "name": "stdout",
          "text": [
            "Enter the price of the product: ₹1450\n",
            "Original Price: ₹1450.00\n",
            "Discount Applied: 10%\n",
            "Discount Amount: ₹145.00\n",
            "Final Price after Discount: ₹1305.00\n"
          ]
        }
      ]
    },
    {
      "cell_type": "code",
      "source": [
        "def is_leap_year(year):\n",
        "\n",
        "    return (year % 4 == 0 and year % 100 != 0) or (year % 400 == 0)\n",
        "\n",
        "month_days = {\n",
        "    'january': 31,\n",
        "    'february': 28,\n",
        "    'march': 31,\n",
        "    'april': 30,\n",
        "    'may': 31,\n",
        "    'june': 30,\n",
        "    'july': 31,\n",
        "    'august': 31,\n",
        "    'september': 30,\n",
        "    'october': 31,\n",
        "    'november': 30,\n",
        "    'december': 31\n",
        "}\n",
        "\n",
        "\n",
        "month_input = input(\"Enter the name of the month (e.g., January): \").strip().lower()\n",
        "year_input = input(\"Enter the year (e.g., 2024): \").strip()\n",
        "\n",
        "\n",
        "if not year_input.isdigit():\n",
        "    print(\"Invalid year entered. Please enter a valid year.\")\n",
        "else:\n",
        "    year = int(year_input)\n",
        "    if month_input in month_days:\n",
        "        if month_input == 'february' and is_leap_year(year):\n",
        "            days = 29\n",
        "        else:\n",
        "            days = month_days[month_input]\n",
        "\n",
        "        month_display = month_input.capitalize()\n",
        "        print(f\"{month_display} {year} has {days} days.\")\n",
        "    else:\n",
        "        print(\"Invalid month name entered. Please enter a valid month.\")\n"
      ],
      "metadata": {
        "colab": {
          "base_uri": "https://localhost:8080/"
        },
        "id": "mvAjkwr6CLhu",
        "outputId": "e5794486-06cd-4f42-ed0c-aaf0671ffc4a"
      },
      "execution_count": null,
      "outputs": [
        {
          "output_type": "stream",
          "name": "stdout",
          "text": [
            "Enter the name of the month (e.g., January): march\n",
            "Enter the year (e.g., 2024): 2019\n",
            "March 2019 has 31 days.\n"
          ]
        }
      ]
    },
    {
      "cell_type": "code",
      "source": [
        "balance = 1000\n",
        "\n",
        "print(\"Welcome to the ATM\")\n",
        "print(\"1. Check Balance\")\n",
        "print(\"2. Deposit Money\")\n",
        "print(\"3. Withdraw Money\")\n",
        "\n",
        "choice = input(\"Enter your choice (1-3): \")\n",
        "\n",
        "if choice == '1':\n",
        "    print(f\"Your current balance is: ₹{balance}\")\n",
        "elif choice == '2':\n",
        "    amount = float(input(\"Enter amount to deposit: ₹\"))\n",
        "    if amount > 0:\n",
        "        balance += amount\n",
        "        print(f\"₹{amount} deposited successfully.\")\n",
        "        print(f\"New balance: ₹{balance}\")\n",
        "    else:\n",
        "        print(\"Invalid deposit amount.\")\n",
        "elif choice == '3':\n",
        "    amount = float(input(\"Enter amount to withdraw: ₹\"))\n",
        "    if amount > 0:\n",
        "        if amount <= balance:\n",
        "            balance -= amount\n",
        "            print(f\"₹{amount} withdrawn successfully.\")\n",
        "            print(f\"Remaining balance: ₹{balance}\")\n",
        "        else:\n",
        "            print(\"Insufficient funds.\")\n",
        "    else:\n",
        "        print(\"Invalid withdrawal amount.\")\n",
        "else:\n",
        "    print(\"Invalid choice. Please select a valid option.\")\n"
      ],
      "metadata": {
        "colab": {
          "base_uri": "https://localhost:8080/"
        },
        "id": "rmstplTtE7dI",
        "outputId": "d20f418c-d34d-4968-bcbb-9404b7e005b6"
      },
      "execution_count": null,
      "outputs": [
        {
          "output_type": "stream",
          "name": "stdout",
          "text": [
            "Welcome to the ATM\n",
            "1. Check Balance\n",
            "2. Deposit Money\n",
            "3. Withdraw Money\n",
            "Enter your choice (1-3): 3\n",
            "Enter amount to withdraw: ₹500\n",
            "₹500.0 withdrawn successfully.\n",
            "Remaining balance: ₹500.0\n"
          ]
        }
      ]
    },
    {
      "cell_type": "code",
      "source": [
        "age = int(input(\"Enter your age: \"))\n",
        "\n",
        "if age >= 0 and age <= 1:\n",
        "    print(\"Infant\")\n",
        "elif age >= 2 and age <= 4:\n",
        "    print(\"Toddler\")\n",
        "elif age >= 5 and age <= 12:\n",
        "    print(\"Child\")\n",
        "elif age >= 13 and age <= 19:\n",
        "    print(\"Teenager\")\n",
        "elif age >= 20 and age <= 59:\n",
        "    print(\"Adult\")\n",
        "elif age >= 60:\n",
        "    print(\"Senior\")\n",
        "else:\n",
        "    print(\"Invalid age entered.\")\n"
      ],
      "metadata": {
        "colab": {
          "base_uri": "https://localhost:8080/"
        },
        "id": "saXFL0WtGz2c",
        "outputId": "00da5151-b329-4d05-f896-ad6e1258cef6"
      },
      "execution_count": null,
      "outputs": [
        {
          "output_type": "stream",
          "name": "stdout",
          "text": [
            "Enter your age: 45\n",
            "Adult\n"
          ]
        }
      ]
    },
    {
      "cell_type": "code",
      "source": [
        "\n",
        "day_number = int(input(\"Enter a number between 1 and 7: \"))\n",
        "\n",
        "if day_number == 1:\n",
        "    print(\"Monday\")\n",
        "elif day_number == 2:\n",
        "    print(\"Tuesday\")\n",
        "elif day_number == 3:\n",
        "    print(\"Wednesday\")\n",
        "elif day_number == 4:\n",
        "    print(\"Thursday\")\n",
        "elif day_number == 5:\n",
        "    print(\"Friday\")\n",
        "elif day_number == 6:\n",
        "    print(\"Saturday\")\n",
        "elif day_number == 7:\n",
        "    print(\"Sunday\")\n",
        "else:\n",
        "    print(\"Invalid input. Please enter a number between 1 and 7.\")\n"
      ],
      "metadata": {
        "colab": {
          "base_uri": "https://localhost:8080/"
        },
        "id": "zxNqAiO8IFyK",
        "outputId": "9eabd835-b797-464c-b9db-5b3df0e65f01"
      },
      "execution_count": null,
      "outputs": [
        {
          "output_type": "stream",
          "name": "stdout",
          "text": [
            "Enter a number between 1 and 7: 5\n",
            "Friday\n"
          ]
        }
      ]
    }
  ]
}