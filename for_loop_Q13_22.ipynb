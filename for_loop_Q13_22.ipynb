{
  "nbformat": 4,
  "nbformat_minor": 0,
  "metadata": {
    "colab": {
      "provenance": []
    },
    "kernelspec": {
      "name": "python3",
      "display_name": "Python 3"
    },
    "language_info": {
      "name": "python"
    }
  },
  "cells": [
    {
      "cell_type": "code",
      "execution_count": 1,
      "metadata": {
        "colab": {
          "base_uri": "https://localhost:8080/"
        },
        "id": "YKsoJGnu1Hm3",
        "outputId": "bfc41132-4f3e-4ffc-ac5c-c6df5535cdba"
      },
      "outputs": [
        {
          "output_type": "stream",
          "name": "stdout",
          "text": [
            "Enter number:5\n",
            "Factorial of 5 is 120\n"
          ]
        }
      ],
      "source": [
        "num=int(input(\"Enter number:\"))\n",
        "\n",
        "if num<0:\n",
        "  print(\"Factorial is not defined for negative numbers\")\n",
        "else:\n",
        "  factorial=1\n",
        "  for i in range(1,num+1):\n",
        "    factorial*=i\n",
        "  print(\"Factorial of\",num,\"is\",factorial)"
      ]
    },
    {
      "cell_type": "code",
      "source": [
        "num1=int(input(\"Enter number:\"))\n",
        "num2=int(input(\"Enter number:\"))\n",
        "\n",
        "if num1>num2:\n",
        "  greater=num1\n",
        "else:\n",
        "  greater=num2\n",
        "for i in range(greater,(num1*num2)+1):\n",
        "  if i%num1==0 and i%num2==0:\n",
        "    lcm=i\n",
        "    break\n",
        "print(\"LCM of\",num1,\"and\",num2,\"is\",lcm)"
      ],
      "metadata": {
        "colab": {
          "base_uri": "https://localhost:8080/"
        },
        "id": "xfn3D3-e-wuA",
        "outputId": "3a2a636b-fd99-42db-cdad-ffa224db8ac0"
      },
      "execution_count": 2,
      "outputs": [
        {
          "output_type": "stream",
          "name": "stdout",
          "text": [
            "Enter number:23\n",
            "Enter number:45\n",
            "LCM of 23 and 45 is 1035\n"
          ]
        }
      ]
    },
    {
      "cell_type": "code",
      "source": [
        "num=int(input(\"enter number:\"))\n",
        "\n",
        "if num<=1:\n",
        "  print(num,\"is not prime\")\n",
        "else:\n",
        "  count=0\n",
        "\n",
        "  for i in range(2,num):\n",
        "    if num%i==0:\n",
        "      count+=1\n",
        "      break\n",
        "if count==0:\n",
        "  print(num,\"is prime\")\n",
        "else:\n",
        "  print(num,\"is not prime\")"
      ],
      "metadata": {
        "colab": {
          "base_uri": "https://localhost:8080/"
        },
        "id": "EsFukOzP_dY1",
        "outputId": "87eb3c75-29b3-4662-e93e-9003fdff90fe"
      },
      "execution_count": 8,
      "outputs": [
        {
          "output_type": "stream",
          "name": "stdout",
          "text": [
            "enter number:23\n",
            "23 is prime\n"
          ]
        }
      ]
    },
    {
      "cell_type": "code",
      "source": [
        "n=int(input(\"Enter number:\"))\n",
        "\n",
        "for num in range(2,n+1):\n",
        "  count=0\n",
        "  for i in range(2,num):\n",
        "    if num%i==0:\n",
        "      count+=1\n",
        "      break\n",
        "  if count==0:\n",
        "    print(num)"
      ],
      "metadata": {
        "colab": {
          "base_uri": "https://localhost:8080/"
        },
        "id": "Gy436QTsAeZb",
        "outputId": "3491cb6e-4eb4-4f49-f761-eba3fa90ef1f"
      },
      "execution_count": 11,
      "outputs": [
        {
          "output_type": "stream",
          "name": "stdout",
          "text": [
            "Enter number:17\n",
            "2\n",
            "3\n",
            "5\n",
            "7\n",
            "11\n",
            "13\n",
            "17\n"
          ]
        }
      ]
    },
    {
      "cell_type": "code",
      "source": [
        "num = int(input(\"Enter a number: \"))\n",
        "\n",
        "print(\"Prime factors of\", num, \"are:\", end=\" \")\n",
        "\n",
        "for i in range(2, num + 1):\n",
        "    for j in range(num):\n",
        "        if num % i == 0:\n",
        "            print(i, end=\" \")\n",
        "            num//=i"
      ],
      "metadata": {
        "colab": {
          "base_uri": "https://localhost:8080/"
        },
        "id": "eMZHFzh7BLuR",
        "outputId": "649124b0-b2c9-4124-af75-11f08d233341"
      },
      "execution_count": 18,
      "outputs": [
        {
          "output_type": "stream",
          "name": "stdout",
          "text": [
            "Enter a number: 36\n",
            "Prime factors of 36 are: 2 2 3 3 "
          ]
        }
      ]
    },
    {
      "cell_type": "code",
      "source": [
        "num = int(input(\"Enter a number: \"))\n",
        "temp = num\n",
        "count = 0\n",
        "\n",
        "n = temp\n",
        "for i in range(num):\n",
        "    if n == 0:\n",
        "        break\n",
        "    count += 1\n",
        "    n = n // 10\n",
        "\n",
        "total = 0\n",
        "n = temp\n",
        "for i in range(count):\n",
        "    digit = n % 10\n",
        "    total += digit ** count\n",
        "    n = n // 10\n",
        "\n",
        "if total == num:\n",
        "    print(num, \"Armstrong number.\")\n",
        "else:\n",
        "    print(num, \"not Armstrong number.\")\n"
      ],
      "metadata": {
        "colab": {
          "base_uri": "https://localhost:8080/"
        },
        "id": "uBoE0vOTEiv1",
        "outputId": "b2699e35-41bf-488e-8968-d66ab2cff369"
      },
      "execution_count": 19,
      "outputs": [
        {
          "output_type": "stream",
          "name": "stdout",
          "text": [
            "Enter a number: 371\n",
            "371 Armstrong number.\n"
          ]
        }
      ]
    },
    {
      "cell_type": "code",
      "source": [
        "num = int(input(\"Enter a number: \"))\n",
        "temp = num\n",
        "total = 0\n",
        "\n",
        "for i in range(1,10):\n",
        "    if temp == 0:\n",
        "        break\n",
        "\n",
        "    digit = temp % 10\n",
        "    temp = temp // 10\n",
        "\n",
        "    factorial = 1\n",
        "    for j in range(1, digit + 1):\n",
        "        factorial=factorial*j\n",
        "\n",
        "    total=total+factorial\n",
        "\n",
        "if total == num:\n",
        "    print(num, \"Strong number.\")\n",
        "else:\n",
        "    print(num, \"not Strong number.\")\n"
      ],
      "metadata": {
        "colab": {
          "base_uri": "https://localhost:8080/"
        },
        "id": "qcrt4OBpGfBo",
        "outputId": "3f4e8396-9c2a-4287-a77a-bfef9172fa92"
      },
      "execution_count": 21,
      "outputs": [
        {
          "output_type": "stream",
          "name": "stdout",
          "text": [
            "Enter a number: 145\n",
            "145 Strong number.\n"
          ]
        }
      ]
    },
    {
      "cell_type": "code",
      "source": [
        "num = int(input(\"Enter a number: \"))\n",
        "sum_of_divisors = 0\n",
        "\n",
        "for i in range(1, num):\n",
        "    if num % i == 0:\n",
        "        sum_of_divisors += i\n",
        "\n",
        "if sum_of_divisors == num:\n",
        "    print(num, \"Perfect number\")\n",
        "else:\n",
        "    print(num, \"not Perfect number\")\n"
      ],
      "metadata": {
        "colab": {
          "base_uri": "https://localhost:8080/"
        },
        "id": "uDMir70BHIJG",
        "outputId": "c2a1e3de-b873-4ee0-dfef-de53f1e02899"
      },
      "execution_count": 23,
      "outputs": [
        {
          "output_type": "stream",
          "name": "stdout",
          "text": [
            "Enter a number: 6\n",
            "6 Perfect number\n"
          ]
        }
      ]
    },
    {
      "cell_type": "code",
      "source": [
        "n = int(input(\"Enter number of terms: \"))\n",
        "\n",
        "a = 0\n",
        "b = 1\n",
        "\n",
        "for i in range(n):\n",
        "    print(a, end=\" \")\n",
        "    c = a+b\n",
        "    a = b\n",
        "    b = c\n"
      ],
      "metadata": {
        "colab": {
          "base_uri": "https://localhost:8080/"
        },
        "id": "lyRY71f6MDx0",
        "outputId": "2ac03e17-2ec4-450e-d827-630ea57c0523"
      },
      "execution_count": 26,
      "outputs": [
        {
          "output_type": "stream",
          "name": "stdout",
          "text": [
            "Enter number of terms: 7\n",
            "0 1 1 2 3 5 8 "
          ]
        }
      ]
    },
    {
      "cell_type": "code",
      "source": [
        "binary = input(\"Enter binary number: \")\n",
        "\n",
        "print(\"1's Complement:\", end=\" \")\n",
        "\n",
        "for bit in binary:\n",
        "    if bit == '0':\n",
        "        print('1', end='')\n",
        "    elif bit == '1':\n",
        "        print('0', end='')\n",
        "    else:\n",
        "        print(\"Invalid binary digit:\", bit)\n",
        "        break"
      ],
      "metadata": {
        "colab": {
          "base_uri": "https://localhost:8080/"
        },
        "id": "_kH5ArfafRHN",
        "outputId": "465ac055-1a74-4815-879e-b982e68bf0d2"
      },
      "execution_count": 32,
      "outputs": [
        {
          "output_type": "stream",
          "name": "stdout",
          "text": [
            "Enter binary number: 10011110\n",
            "1's Complement: 01100001"
          ]
        }
      ]
    }
  ]
}