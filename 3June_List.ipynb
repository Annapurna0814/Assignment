{
  "nbformat": 4,
  "nbformat_minor": 0,
  "metadata": {
    "colab": {
      "provenance": []
    },
    "kernelspec": {
      "name": "python3",
      "display_name": "Python 3"
    },
    "language_info": {
      "name": "python"
    }
  },
  "cells": [
    {
      "cell_type": "code",
      "execution_count": null,
      "metadata": {
        "colab": {
          "base_uri": "https://localhost:8080/"
        },
        "id": "3IL-jpcz0ihk",
        "outputId": "79d6f949-d445-41a1-b483-a3147f0cb3e8"
      },
      "outputs": [
        {
          "output_type": "stream",
          "name": "stdout",
          "text": [
            "10\n",
            "20\n",
            "30\n",
            "40\n"
          ]
        }
      ],
      "source": [
        "mylist=[10,20,30,40,\"abc\"]\n",
        "for i in range(0,len(mylist)):\n",
        "  if (type(mylist[i]))==int:\n",
        "   print(mylist[i])"
      ]
    },
    {
      "cell_type": "code",
      "source": [
        "mylist=[10,20,30,40,14]\n",
        "max=mylist[0]\n",
        "\n",
        "for index in range(0,len(mylist)):\n",
        "  print(\"Before->\",mylist[index],max)\n",
        "\n",
        "  if(mylist[index>max]):\n",
        "    max=mylist[index]\n",
        "    print(\"After condition->\",mylist[index],max)"
      ],
      "metadata": {
        "colab": {
          "base_uri": "https://localhost:8080/"
        },
        "id": "QYOt-c695MOu",
        "outputId": "c1e03540-0d45-436d-d5ce-dc2d6bf64a6a"
      },
      "execution_count": null,
      "outputs": [
        {
          "output_type": "stream",
          "name": "stdout",
          "text": [
            "Before-> 10 10\n",
            "After condition-> 10 10\n",
            "Before-> 20 10\n",
            "After condition-> 20 20\n",
            "Before-> 30 20\n",
            "After condition-> 30 30\n",
            "Before-> 40 30\n",
            "After condition-> 40 40\n",
            "Before-> 14 40\n",
            "After condition-> 14 14\n"
          ]
        }
      ]
    },
    {
      "cell_type": "code",
      "source": [
        "mylist = [10, 20, 30, 40, 15]\n",
        "max= mylist[0]\n",
        "smax = 0\n",
        "\n",
        "for index in range(0, len(mylist)):\n",
        "    if mylist[index] > max:\n",
        "        smax = max\n",
        "        max = mylist[index]\n",
        "\n",
        "print(\"values=>\", max, smax)"
      ],
      "metadata": {
        "colab": {
          "base_uri": "https://localhost:8080/"
        },
        "id": "rgs77IHXLhmz",
        "outputId": "137257b7-5241-4f98-ff01-edd669167da2"
      },
      "execution_count": 52,
      "outputs": [
        {
          "output_type": "stream",
          "name": "stdout",
          "text": [
            "values=> 40 30\n"
          ]
        }
      ]
    },
    {
      "cell_type": "code",
      "source": [
        "mylist = [10, 20,5,40,35]\n",
        "max= mylist[0]\n",
        "smax = 0\n",
        "\n",
        "for index in range(0, len(mylist)):\n",
        "    if mylist[index] > max:\n",
        "        smax = max\n",
        "        max = mylist[index]\n",
        "    elif(mylist[index]>smax):\n",
        "        smax=mylist[index]\n",
        "    print(\"values=>\", max, smax)\n",
        "\n",
        "print(\"values=>\", max, smax)\n"
      ],
      "metadata": {
        "id": "GHv-al3gC0Yt",
        "colab": {
          "base_uri": "https://localhost:8080/"
        },
        "outputId": "2de6fa79-e8e7-4d67-c96e-93eb2941bbfb"
      },
      "execution_count": 53,
      "outputs": [
        {
          "output_type": "stream",
          "name": "stdout",
          "text": [
            "values=> 10 10\n",
            "values=> 20 10\n",
            "values=> 20 10\n",
            "values=> 40 20\n",
            "values=> 40 35\n",
            "values=> 40 35\n"
          ]
        }
      ]
    },
    {
      "cell_type": "code",
      "source": [
        "mylist=[10,20,30,40,35]\n",
        "sum=0\n",
        "\n",
        "for index in range(0,len(mylist)):\n",
        "  sum+=mylist[index]\n",
        "  print(sum)"
      ],
      "metadata": {
        "colab": {
          "base_uri": "https://localhost:8080/"
        },
        "id": "W5DezW9h9Tyj",
        "outputId": "4c6aedce-0442-4d5f-9b17-7153cc3896c6"
      },
      "execution_count": null,
      "outputs": [
        {
          "output_type": "stream",
          "name": "stdout",
          "text": [
            "10\n",
            "30\n",
            "60\n",
            "100\n",
            "135\n"
          ]
        }
      ]
    },
    {
      "cell_type": "code",
      "source": [
        "mylist=[10,20,30,40,35]\n",
        "sum=0\n",
        "\n",
        "for index in range(0,len(mylist)):\n",
        "  sum+=mylist[index]\n",
        "  print(mylist[index],sum)"
      ],
      "metadata": {
        "colab": {
          "base_uri": "https://localhost:8080/"
        },
        "id": "55e93SY_9pf4",
        "outputId": "ee22973d-a3ff-4e70-b802-69314f9fe7f3"
      },
      "execution_count": null,
      "outputs": [
        {
          "output_type": "stream",
          "name": "stdout",
          "text": [
            "10 10\n",
            "20 30\n",
            "30 60\n",
            "40 100\n",
            "35 135\n"
          ]
        }
      ]
    },
    {
      "cell_type": "code",
      "source": [
        "mylist=[10,20,30,40,35]\n",
        "\n",
        "for index1 in range(0,1):\n",
        "  print(mylist[index1])\n",
        "  for index2 in range(1,len(mylist)):\n",
        "    print(mylist[index1],mylist[index2])"
      ],
      "metadata": {
        "colab": {
          "base_uri": "https://localhost:8080/"
        },
        "id": "_C1zMSuB-58J",
        "outputId": "777d9f76-f2b7-4d22-8f44-78844369861b"
      },
      "execution_count": 55,
      "outputs": [
        {
          "output_type": "stream",
          "name": "stdout",
          "text": [
            "10\n",
            "10 20\n",
            "10 30\n",
            "10 40\n",
            "10 35\n"
          ]
        }
      ]
    },
    {
      "cell_type": "code",
      "source": [
        "mylist=[10,20,30,40,50]\n",
        "total=50\n",
        "\n",
        "for index1 in range(len(mylist)):\n",
        "  for index2 in range(index1+1,len(mylist)):\n",
        "    if(mylist[index1]+mylist[index2]==total):\n",
        "\n",
        "      print(mylist[index1],mylist[index2])"
      ],
      "metadata": {
        "colab": {
          "base_uri": "https://localhost:8080/"
        },
        "id": "X_j3wcP9NgK9",
        "outputId": "fb015332-edf7-487e-b438-b3b86d1a9f5c"
      },
      "execution_count": 68,
      "outputs": [
        {
          "output_type": "stream",
          "name": "stdout",
          "text": [
            "10 40\n",
            "20 30\n"
          ]
        }
      ]
    },
    {
      "cell_type": "code",
      "source": [
        "mylist=[10,20,30,40,50]\n",
        "total=0\n",
        "\n",
        "for index1 in range(0,len(mylist)):\n",
        "  for index2 in range(index1+1,len(mylist)):\n",
        "    print(f\"{mylist[index1]}:{mylist[index2]}\")"
      ],
      "metadata": {
        "colab": {
          "base_uri": "https://localhost:8080/"
        },
        "id": "gHUdrXYvPZHu",
        "outputId": "8a33c421-5b34-410e-9075-c8e7792fe469"
      },
      "execution_count": 69,
      "outputs": [
        {
          "output_type": "stream",
          "name": "stdout",
          "text": [
            "10:20\n",
            "10:30\n",
            "10:40\n",
            "10:50\n",
            "20:30\n",
            "20:40\n",
            "20:50\n",
            "30:40\n",
            "30:50\n",
            "40:50\n"
          ]
        }
      ]
    }
  ]
}