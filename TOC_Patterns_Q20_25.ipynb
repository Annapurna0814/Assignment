{
  "nbformat": 4,
  "nbformat_minor": 0,
  "metadata": {
    "colab": {
      "provenance": []
    },
    "kernelspec": {
      "name": "python3",
      "display_name": "Python 3"
    },
    "language_info": {
      "name": "python"
    }
  },
  "cells": [
    {
      "cell_type": "code",
      "execution_count": 21,
      "metadata": {
        "colab": {
          "base_uri": "https://localhost:8080/"
        },
        "id": "U02pW9kQQggJ",
        "outputId": "39f6e6b6-ed27-4ec3-e99c-b7e6b4a9b105"
      },
      "outputs": [
        {
          "output_type": "stream",
          "name": "stdout",
          "text": [
            "1 2 3 4 5 6 7 8 9 \n",
            "  1 2 3 4 5 6 7 \n",
            "    1 2 3 4 5 \n",
            "      1 2 3 \n",
            "        1 \n",
            "      1 2 3 \n",
            "    1 2 3 4 5 \n",
            "  1 2 3 4 5 6 7 \n",
            "1 2 3 4 5 6 7 8 9 \n"
          ]
        }
      ],
      "source": [
        "count = 0\n",
        "for i in range(9, 0, -2):\n",
        "    for k in range(count):\n",
        "        print(\" \", end=\" \")\n",
        "    for j in range(1, i + 1):\n",
        "        print(j, end=\" \")\n",
        "    print()\n",
        "    count += 1\n",
        "\n",
        "count = 3\n",
        "for i in range(3, 10, 2):\n",
        "    for k in range(count):\n",
        "        print(\" \", end=\" \")\n",
        "    for j in range(1, i + 1):\n",
        "        print(j, end=\" \")\n",
        "    print()\n",
        "    count -= 1"
      ]
    },
    {
      "cell_type": "code",
      "source": [
        "count = 0\n",
        "for i in range(9, 0, -2):\n",
        "    for k in range(count):\n",
        "        print(\" \", end=\" \")\n",
        "    for j in range(i):\n",
        "        print(chr(65 + j), end=\" \")\n",
        "    print()\n",
        "    count += 1\n",
        "\n",
        "count = 3\n",
        "for i in range(3, 10, 2):\n",
        "    for k in range(count):\n",
        "        print(\" \", end=\" \")\n",
        "    for j in range(i):\n",
        "        print(chr(65 + j), end=\" \")\n",
        "    print()\n",
        "    count -= 1"
      ],
      "metadata": {
        "colab": {
          "base_uri": "https://localhost:8080/"
        },
        "id": "dTKlJrBUXyaz",
        "outputId": "38aaa6c8-8fc3-4ab8-91ed-8a82fe5455bd"
      },
      "execution_count": 23,
      "outputs": [
        {
          "output_type": "stream",
          "name": "stdout",
          "text": [
            "A B C D E F G H I \n",
            "  A B C D E F G \n",
            "    A B C D E \n",
            "      A B C \n",
            "        A \n",
            "      A B C \n",
            "    A B C D E \n",
            "  A B C D E F G \n",
            "A B C D E F G H I \n"
          ]
        }
      ]
    },
    {
      "cell_type": "code",
      "source": [
        "for i in range(1,6):\n",
        "    for j in range(1,6):\n",
        "        if i == 1 or i == 5 or j == 1 or j == 5:\n",
        "            print(\"*\", end=\" \")\n",
        "        else:\n",
        "            print(\" \", end=\" \")\n",
        "    print()"
      ],
      "metadata": {
        "colab": {
          "base_uri": "https://localhost:8080/"
        },
        "id": "vc3T7tseYE34",
        "outputId": "f4eaae3c-1fc2-4906-b3fb-535de5c12f32"
      },
      "execution_count": 28,
      "outputs": [
        {
          "output_type": "stream",
          "name": "stdout",
          "text": [
            "* * * * * \n",
            "*       * \n",
            "*       * \n",
            "*       * \n",
            "* * * * * \n"
          ]
        }
      ]
    },
    {
      "cell_type": "code",
      "source": [
        "for i in range(1, 6):\n",
        "    for j in range(1, 6):\n",
        "        if i == 1 or i == 5 or j == 1 or j == 5:\n",
        "            print(j, end=\" \")\n",
        "        else:\n",
        "            print(\" \", end=\" \")\n",
        "    print()\n"
      ],
      "metadata": {
        "colab": {
          "base_uri": "https://localhost:8080/"
        },
        "id": "ibgDEpszZIN6",
        "outputId": "12a7b30d-4646-42b8-f74a-f84fcbc2e914"
      },
      "execution_count": 29,
      "outputs": [
        {
          "output_type": "stream",
          "name": "stdout",
          "text": [
            "1 2 3 4 5 \n",
            "1       5 \n",
            "1       5 \n",
            "1       5 \n",
            "1 2 3 4 5 \n"
          ]
        }
      ]
    },
    {
      "cell_type": "code",
      "source": [
        "for i in range(1, 6):\n",
        "    for j in range(1, 6):\n",
        "        if i == 1 or i == 5 or j == 1 or j == 5:\n",
        "            print(chr(64 + j), end=\" \")\n",
        "        else:\n",
        "            print(\" \", end=\" \")\n",
        "    print()"
      ],
      "metadata": {
        "colab": {
          "base_uri": "https://localhost:8080/"
        },
        "id": "Ybt_YDDvZPCa",
        "outputId": "20a6567d-e7a3-46a2-f071-5ac8e1c582c8"
      },
      "execution_count": 30,
      "outputs": [
        {
          "output_type": "stream",
          "name": "stdout",
          "text": [
            "A B C D E \n",
            "A       E \n",
            "A       E \n",
            "A       E \n",
            "A B C D E \n"
          ]
        }
      ]
    },
    {
      "cell_type": "code",
      "source": [
        "for i in range(1,6):\n",
        "    for k in range(6 - i):\n",
        "        print(\" \", end=\"\")\n",
        "    for j in range(2* i - 1):\n",
        "        if j == 0 or j == 2 * i - 2:\n",
        "            print(\"*\", end=\"\")\n",
        "        else:\n",
        "            print(\" \", end=\"\")\n",
        "    print()\n",
        "\n",
        "for i in range(4, 0, -1):\n",
        "    for k in range(6 - i):\n",
        "        print(\" \", end=\"\")\n",
        "    for j in range(2 * i - 1):\n",
        "        if j == 0 or j == 2 * i - 2:\n",
        "            print(\"*\", end=\"\")\n",
        "        else:\n",
        "            print(\" \", end=\"\")\n",
        "    print()\n"
      ],
      "metadata": {
        "colab": {
          "base_uri": "https://localhost:8080/"
        },
        "id": "6sVifWR4ZuHo",
        "outputId": "b85dfa95-9190-4327-f46b-2164cc106aad"
      },
      "execution_count": 39,
      "outputs": [
        {
          "output_type": "stream",
          "name": "stdout",
          "text": [
            "     *\n",
            "    * *\n",
            "   *   *\n",
            "  *     *\n",
            " *       *\n",
            "  *     *\n",
            "   *   *\n",
            "    * *\n",
            "     *\n"
          ]
        }
      ]
    },
    {
      "cell_type": "code",
      "source": [
        "for i in range(1,6):\n",
        "    for k in range(6 - i):\n",
        "        print(\" \", end=\"\")\n",
        "\n",
        "    for j in range(2 * i - 1):\n",
        "        if j == 0:\n",
        "            print(\"A\", end=\"\")\n",
        "        elif j == 2 * i - 2:\n",
        "            print(chr(65 + 2 * (i - 1)), end=\"\")\n",
        "        else:\n",
        "            print(\" \", end=\"\")\n",
        "    print()\n",
        "\n",
        "for i in range(4, 0, -1):\n",
        "    for k in range(6 - i):\n",
        "        print(\" \", end=\"\")\n",
        "\n",
        "    for j in range(2 * i - 1):\n",
        "        if j == 0:\n",
        "            print(\"A\", end=\"\")\n",
        "        elif j == 2 * i - 2:\n",
        "            print(chr(65 + 2 * (i - 1)), end=\"\")\n",
        "        else:\n",
        "            print(\" \", end=\"\")\n",
        "    print()\n"
      ],
      "metadata": {
        "colab": {
          "base_uri": "https://localhost:8080/"
        },
        "id": "qke_jQbudKls",
        "outputId": "78d09ea9-836b-4e7a-f8ad-977b83724761"
      },
      "execution_count": 44,
      "outputs": [
        {
          "output_type": "stream",
          "name": "stdout",
          "text": [
            "     A\n",
            "    A C\n",
            "   A   E\n",
            "  A     G\n",
            " A       I\n",
            "  A     G\n",
            "   A   E\n",
            "    A C\n",
            "     A\n"
          ]
        }
      ]
    },
    {
      "cell_type": "code",
      "source": [
        "for i in range(1,6):\n",
        "    for space in range(6 - i):\n",
        "        print(\"  \", end=\"\")\n",
        "\n",
        "    num = 1\n",
        "    for j in range(i):\n",
        "        print(num, end=\"   \")\n",
        "        num = num * (i - j - 1) // (j + 1)\n",
        "    print()\n"
      ],
      "metadata": {
        "colab": {
          "base_uri": "https://localhost:8080/"
        },
        "id": "11F0HmEfiISt",
        "outputId": "b64d6a6e-6e47-480c-cdc0-b8ae9b451796"
      },
      "execution_count": 77,
      "outputs": [
        {
          "output_type": "stream",
          "name": "stdout",
          "text": [
            "          1   \n",
            "        1   1   \n",
            "      1   2   1   \n",
            "    1   3   3   1   \n",
            "  1   4   6   4   1   \n"
          ]
        }
      ]
    },
    {
      "cell_type": "code",
      "source": [
        "for i in range(1, 6):\n",
        "    for j in range(i):\n",
        "        print(\"*\", end=\"\")\n",
        "    for j in range(2 * (6 - i)):\n",
        "        print(\" \", end=\"\")\n",
        "    for j in range(i):\n",
        "        print(\"*\", end=\"\")\n",
        "    print( )\n",
        "\n",
        "for i in range(4, 0, -1):\n",
        "    for j in range(i):\n",
        "        print(\"*\", end=\"\")\n",
        "    for j in range(2 * (6 - i)):\n",
        "        print(\" \", end=\"\")\n",
        "    for j in range(i):\n",
        "        print(\"*\", end=\"\")\n",
        "    print()\n"
      ],
      "metadata": {
        "colab": {
          "base_uri": "https://localhost:8080/"
        },
        "id": "sp02zBbtlOXm",
        "outputId": "99e6b32a-2fbc-4385-f9b0-141cae4487d1"
      },
      "execution_count": 90,
      "outputs": [
        {
          "output_type": "stream",
          "name": "stdout",
          "text": [
            "*          *\n",
            "**        **\n",
            "***      ***\n",
            "****    ****\n",
            "*****  *****\n",
            "****    ****\n",
            "***      ***\n",
            "**        **\n",
            "*          *\n"
          ]
        }
      ]
    },
    {
      "cell_type": "code",
      "source": [
        "for i in range(5,0,-1):\n",
        "  for j in range(i,0,-1):\n",
        "    print(\"*\",end=\" \")\n",
        "  for j in range(2*(5-i)):\n",
        "    print(\" \",end=\" \")\n",
        "  for j in range(i,0,-1):\n",
        "    print(\"*\",end=\" \")\n",
        "  print()\n",
        "\n",
        "for i in range(0,5):\n",
        "  for j in range(i+1):\n",
        "    print(\"*\",end=\" \")\n",
        "  for j in range(2*(3-i+1)):\n",
        "    print(\" \",end=\" \")\n",
        "  for j in range(i+1):\n",
        "    print(\"*\",end=\" \")\n",
        "  print()"
      ],
      "metadata": {
        "colab": {
          "base_uri": "https://localhost:8080/"
        },
        "id": "s9YEzdUgtshY",
        "outputId": "dce8c351-46fe-4e0c-d476-1cc896c8e45c"
      },
      "execution_count": 103,
      "outputs": [
        {
          "output_type": "stream",
          "name": "stdout",
          "text": [
            "* * * * * * * * * * \n",
            "* * * *     * * * * \n",
            "* * *         * * * \n",
            "* *             * * \n",
            "*                 * \n",
            "*                 * \n",
            "* *             * * \n",
            "* * *         * * * \n",
            "* * * *     * * * * \n",
            "* * * * * * * * * * \n"
          ]
        }
      ]
    }
  ]
}