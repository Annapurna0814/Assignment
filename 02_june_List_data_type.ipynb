{
  "nbformat": 4,
  "nbformat_minor": 0,
  "metadata": {
    "colab": {
      "provenance": []
    },
    "kernelspec": {
      "name": "python3",
      "display_name": "Python 3"
    },
    "language_info": {
      "name": "python"
    }
  },
  "cells": [
    {
      "cell_type": "code",
      "execution_count": 1,
      "metadata": {
        "colab": {
          "base_uri": "https://localhost:8080/"
        },
        "id": "58yceyANpTqi",
        "outputId": "f9eca843-f938-4cf6-957f-1918e46a084e"
      },
      "outputs": [
        {
          "output_type": "stream",
          "name": "stdout",
          "text": [
            "memory of age=> 10751144\n",
            "memory of x=> 10751144\n",
            "new memory of x=> 10751464 10751144\n"
          ]
        }
      ],
      "source": [
        "age=10\n",
        "print(\"memory of age=>\",id(age))\n",
        "\n",
        "x=age\n",
        "print(\"memory of x=>\",id(x))\n",
        "x=20\n",
        "print(\"new memory of x=>\",id(x),id(age))"
      ]
    },
    {
      "cell_type": "code",
      "source": [
        "mylist=[10,20,\"abc\"]\n",
        "print(type(mylist))\n",
        "print(mylist[1])"
      ],
      "metadata": {
        "colab": {
          "base_uri": "https://localhost:8080/"
        },
        "id": "4K9LpfDi0K_I",
        "outputId": "d2248ec4-9c53-4911-cbb0-e66ac0a1b29c"
      },
      "execution_count": 2,
      "outputs": [
        {
          "output_type": "stream",
          "name": "stdout",
          "text": [
            "<class 'list'>\n",
            "20\n"
          ]
        }
      ]
    },
    {
      "cell_type": "code",
      "source": [
        "print(mylist)\n",
        "mylist.append(100)\n",
        "print(mylist)"
      ],
      "metadata": {
        "colab": {
          "base_uri": "https://localhost:8080/"
        },
        "id": "N57w8ttI0Wfv",
        "outputId": "12491da8-0d3e-4d72-ff02-5e86542d1640"
      },
      "execution_count": 5,
      "outputs": [
        {
          "output_type": "stream",
          "name": "stdout",
          "text": [
            "[10, 20, 'abc', 90, 90]\n",
            "[10, 20, 'abc', 90, 90, 100]\n"
          ]
        }
      ]
    },
    {
      "cell_type": "code",
      "source": [
        "print(mylist)\n",
        "mylist.insert(1,\"usha\")\n",
        "print(mylist)"
      ],
      "metadata": {
        "colab": {
          "base_uri": "https://localhost:8080/"
        },
        "id": "BYBLWN9E1jsy",
        "outputId": "a6d40f5d-4523-48bc-accb-52206eeb0d0f"
      },
      "execution_count": 6,
      "outputs": [
        {
          "output_type": "stream",
          "name": "stdout",
          "text": [
            "[10, 20, 'abc', 90, 90, 100]\n",
            "[10, 'usha', 20, 'abc', 90, 90, 100]\n"
          ]
        }
      ]
    },
    {
      "cell_type": "code",
      "source": [
        "print(mylist)\n",
        "mylist[0]=1888\n",
        "print(mylist)"
      ],
      "metadata": {
        "colab": {
          "base_uri": "https://localhost:8080/"
        },
        "id": "IWR9ldfE1rVJ",
        "outputId": "c1c3ba07-3db4-48e8-992c-2dc2c3960737"
      },
      "execution_count": 7,
      "outputs": [
        {
          "output_type": "stream",
          "name": "stdout",
          "text": [
            "[10, 'usha', 20, 'abc', 90, 90, 100]\n",
            "[1888, 'usha', 20, 'abc', 90, 90, 100]\n"
          ]
        }
      ]
    },
    {
      "cell_type": "code",
      "source": [
        "print(mylist)\n",
        "mylist.pop()\n",
        "print(\"delete=>\",mylist)"
      ],
      "metadata": {
        "colab": {
          "base_uri": "https://localhost:8080/"
        },
        "id": "BFsSkVwk1ycH",
        "outputId": "cc0bf666-a891-4979-f7c2-77e907b9434a"
      },
      "execution_count": 8,
      "outputs": [
        {
          "output_type": "stream",
          "name": "stdout",
          "text": [
            "[1888, 'usha', 20, 'abc', 90, 90, 100]\n",
            "delete=> [1888, 'usha', 20, 'abc', 90, 90]\n"
          ]
        }
      ]
    },
    {
      "cell_type": "code",
      "source": [
        "x=[10,20]\n",
        "x.append(30)\n",
        "print(x)\n",
        "x[0]=1000\n",
        "print(x)\n",
        "out=x.pop()\n",
        "print(x,out)"
      ],
      "metadata": {
        "colab": {
          "base_uri": "https://localhost:8080/"
        },
        "id": "1CvqtNhu2ouT",
        "outputId": "df3de5f2-47d4-4cec-dafd-c539ac8ebf06"
      },
      "execution_count": 9,
      "outputs": [
        {
          "output_type": "stream",
          "name": "stdout",
          "text": [
            "[10, 20, 30]\n",
            "[1000, 20, 30]\n",
            "[1000, 20] 30\n"
          ]
        }
      ]
    },
    {
      "cell_type": "code",
      "source": [
        "x=[10,20,1,2,5,10]\n",
        "x.sort()\n",
        "print(x)"
      ],
      "metadata": {
        "colab": {
          "base_uri": "https://localhost:8080/"
        },
        "id": "CigGuSOr5P8d",
        "outputId": "cdd53124-71cc-4118-f64e-cb3344791488"
      },
      "execution_count": 10,
      "outputs": [
        {
          "output_type": "stream",
          "name": "stdout",
          "text": [
            "[1, 2, 5, 10, 10, 20]\n"
          ]
        }
      ]
    },
    {
      "cell_type": "code",
      "source": [
        "x=[10,20,1,2,5,10]\n",
        "x.reverse()\n",
        "print(x)"
      ],
      "metadata": {
        "colab": {
          "base_uri": "https://localhost:8080/"
        },
        "id": "ogTmHLr35WWl",
        "outputId": "be4737e4-980d-431a-c69d-75ac86eed259"
      },
      "execution_count": 11,
      "outputs": [
        {
          "output_type": "stream",
          "name": "stdout",
          "text": [
            "[10, 5, 2, 1, 20, 10]\n"
          ]
        }
      ]
    },
    {
      "cell_type": "code",
      "source": [
        "list1=[10,20,30,40,3,2,70]\n",
        "for index in range(0,7):\n",
        "  print(index,list1[index])"
      ],
      "metadata": {
        "colab": {
          "base_uri": "https://localhost:8080/"
        },
        "id": "B_L3nof35ez2",
        "outputId": "63581092-7619-400f-a822-73c7fdff90d5"
      },
      "execution_count": 12,
      "outputs": [
        {
          "output_type": "stream",
          "name": "stdout",
          "text": [
            "0 10\n",
            "1 20\n",
            "2 30\n",
            "3 40\n",
            "4 3\n",
            "5 2\n",
            "6 70\n"
          ]
        }
      ]
    },
    {
      "cell_type": "code",
      "source": [
        "list1=[10,20,30,40,3,2,70]\n",
        "for index in range(0,len(list1)):\n",
        "  print(index,list1[index])\n"
      ],
      "metadata": {
        "colab": {
          "base_uri": "https://localhost:8080/"
        },
        "id": "nOJaIaEK5tAi",
        "outputId": "a6014d29-e2e5-400e-d5d2-38a63b21e627"
      },
      "execution_count": 13,
      "outputs": [
        {
          "output_type": "stream",
          "name": "stdout",
          "text": [
            "0 10\n",
            "1 20\n",
            "2 30\n",
            "3 40\n",
            "4 3\n",
            "5 2\n",
            "6 70\n"
          ]
        }
      ]
    },
    {
      "cell_type": "code",
      "source": [
        "x=[10,20,30,40,3,2,70]\n",
        "new_list=[]\n",
        "for i in range(len(x)):\n",
        "  if (x[i]%2!=0):\n",
        "   new_list.append(x[i])\n",
        "print(new_list)"
      ],
      "metadata": {
        "colab": {
          "base_uri": "https://localhost:8080/"
        },
        "id": "m_V5aQTe9ksB",
        "outputId": "b46bbaa7-a93d-410b-a05a-2b1f53754f5b"
      },
      "execution_count": 22,
      "outputs": [
        {
          "output_type": "stream",
          "name": "stdout",
          "text": [
            "[3]\n"
          ]
        }
      ]
    },
    {
      "cell_type": "code",
      "source": [
        "x=[10,20,30,40,3,2,70]\n",
        "min=x[0]\n",
        "for i in range(0,len(x)):\n",
        "  if (x[i]<min):\n",
        "    min=x[i]\n",
        "print(min)"
      ],
      "metadata": {
        "colab": {
          "base_uri": "https://localhost:8080/"
        },
        "id": "_aSyignKBXhv",
        "outputId": "1d9432b4-a5ad-4c25-c22a-7758fda8d666"
      },
      "execution_count": 23,
      "outputs": [
        {
          "output_type": "stream",
          "name": "stdout",
          "text": [
            "2\n"
          ]
        }
      ]
    },
    {
      "cell_type": "code",
      "source": [
        "x=[10,20,30,40,3,2,70]\n",
        "first=0\n",
        "second=0\n",
        "\n",
        "for i in range(0,len(x)):\n",
        "  if (x[i]>first):\n",
        "    first=x[i]\n",
        "\n",
        "for i in range(0,len(x)):\n",
        "  if (x[i]>second and x[i]!=first):\n",
        "    second=x[i]\n",
        "print(second)"
      ],
      "metadata": {
        "colab": {
          "base_uri": "https://localhost:8080/"
        },
        "id": "xda0wYH7BxMw",
        "outputId": "9144bb62-7fa3-4c14-9d64-1e755dd74fc6"
      },
      "execution_count": 4,
      "outputs": [
        {
          "output_type": "stream",
          "name": "stdout",
          "text": [
            "40\n"
          ]
        }
      ]
    }
  ]
}