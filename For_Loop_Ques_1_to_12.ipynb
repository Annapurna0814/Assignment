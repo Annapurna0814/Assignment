{
  "nbformat": 4,
  "nbformat_minor": 0,
  "metadata": {
    "colab": {
      "provenance": []
    },
    "kernelspec": {
      "name": "python3",
      "display_name": "Python 3"
    },
    "language_info": {
      "name": "python"
    }
  },
  "cells": [
    {
      "cell_type": "code",
      "execution_count": null,
      "metadata": {
        "colab": {
          "base_uri": "https://localhost:8080/"
        },
        "id": "DKx7u8ZVJ44t",
        "outputId": "94a28cca-d010-4510-d136-b829a75d9aff"
      },
      "outputs": [
        {
          "output_type": "stream",
          "name": "stdout",
          "text": [
            "Enter a number: 3\n",
            "Natural numbers from 1 to 3\n",
            "1\n",
            "2\n",
            "3\n"
          ]
        }
      ],
      "source": [
        "n = int(input(\"Enter a number: \"))\n",
        "\n",
        "if n >= 1:\n",
        "    print(\"Natural numbers from 1 to\", n)\n",
        "    for i in range(1, n + 1):\n",
        "        print(i)\n",
        "else:\n",
        "    print(\"enter a number greater than or equal to 1.\")\n"
      ]
    },
    {
      "cell_type": "code",
      "source": [
        "n = int(input(\"Enter a number: \"))\n",
        "\n",
        "if n >= 1:\n",
        "    print(\"Natural numbers from\", n, \"to 1 are:\")\n",
        "    for i in range(n, 0, -1):\n",
        "        print(i)\n",
        "else:\n",
        "    print(\"Please enter a number greater than or equal to 1.\")\n"
      ],
      "metadata": {
        "colab": {
          "base_uri": "https://localhost:8080/"
        },
        "id": "4BS_q36G-K1-",
        "outputId": "cabf5f81-3c42-448a-b779-49a062d5ca0e"
      },
      "execution_count": null,
      "outputs": [
        {
          "output_type": "stream",
          "name": "stdout",
          "text": [
            "Enter a number: 6\n",
            "Natural numbers from 6 to 1 are:\n",
            "6\n",
            "5\n",
            "4\n",
            "3\n",
            "2\n",
            "1\n"
          ]
        }
      ]
    },
    {
      "cell_type": "code",
      "source": [
        "for i in range(97, 123):\n",
        "    print(chr(i), end=' ')\n"
      ],
      "metadata": {
        "colab": {
          "base_uri": "https://localhost:8080/"
        },
        "id": "yx-taxkK_0iZ",
        "outputId": "41202c4b-cba1-40d9-ae02-c4c3087881fc"
      },
      "execution_count": null,
      "outputs": [
        {
          "output_type": "stream",
          "name": "stdout",
          "text": [
            "a b c d e f g h i j k l m n o p q r s t u v w x y z "
          ]
        }
      ]
    },
    {
      "cell_type": "code",
      "source": [
        "for i in range(1, 101):\n",
        "    if i % 2 == 0:\n",
        "        print(i, end=' ')\n"
      ],
      "metadata": {
        "colab": {
          "base_uri": "https://localhost:8080/"
        },
        "id": "lJ2D1ClSAelA",
        "outputId": "099b52d0-73ed-4b3f-d242-02a4af968b8d"
      },
      "execution_count": null,
      "outputs": [
        {
          "output_type": "stream",
          "name": "stdout",
          "text": [
            "2 4 6 8 10 12 14 16 18 20 22 24 26 28 30 32 34 36 38 40 42 44 46 48 50 52 54 56 58 60 62 64 66 68 70 72 74 76 78 80 82 84 86 88 90 92 94 96 98 100 "
          ]
        }
      ]
    },
    {
      "cell_type": "code",
      "source": [
        "n = int(input(\"Enter a number: \"))\n",
        "\n",
        "sum = 0\n",
        "\n",
        "for i in range(1, n + 1):\n",
        "    if i % 2 != 0:\n",
        "        sum += i\n",
        "\n",
        "print(\"Sum of all odd numbers\",sum)\n"
      ],
      "metadata": {
        "colab": {
          "base_uri": "https://localhost:8080/"
        },
        "id": "p2EkWvfADCoW",
        "outputId": "890a0404-5fe0-470f-eb88-f0875b13e3fe"
      },
      "execution_count": null,
      "outputs": [
        {
          "output_type": "stream",
          "name": "stdout",
          "text": [
            "Enter a number: 41\n",
            "Sum of all odd numbers 441\n"
          ]
        }
      ]
    },
    {
      "cell_type": "code",
      "source": [
        "num = int(input(\"Enter a number: \"))\n",
        "\n",
        "original_num = num\n",
        "\n",
        "if num == 0:\n",
        "    count = 1\n",
        "else:\n",
        "    if num < 0:\n",
        "        num = -num\n",
        "\n",
        "\n",
        "    num_str = str(num)\n",
        "\n",
        "    count = 0\n",
        "    for digit in num_str:\n",
        "        count += 1\n",
        "\n",
        "print(\"Number of digits in\", original_num, \"is:\", count)\n"
      ],
      "metadata": {
        "colab": {
          "base_uri": "https://localhost:8080/"
        },
        "id": "WCv-C2iNFHGG",
        "outputId": "e63b0f87-596b-4f70-c247-325c9f3bc16f"
      },
      "execution_count": null,
      "outputs": [
        {
          "output_type": "stream",
          "name": "stdout",
          "text": [
            "Enter a number: 45786\n",
            "Number of digits in 45786 is: 5\n"
          ]
        }
      ]
    },
    {
      "cell_type": "code",
      "source": [
        "number = input(\"Enter a positive number: \")\n",
        "\n",
        "sum_of_digits = 0\n",
        "\n",
        "for digit in number:\n",
        "    sum_of_digits += int(digit)\n",
        "\n",
        "print(\"Sum of digits is:\", sum_of_digits)\n"
      ],
      "metadata": {
        "colab": {
          "base_uri": "https://localhost:8080/"
        },
        "id": "SJ5cYLkoGj0k",
        "outputId": "c86ae87c-205d-4894-a993-87a082489d34"
      },
      "execution_count": null,
      "outputs": [
        {
          "output_type": "stream",
          "name": "stdout",
          "text": [
            "Enter a positive number: 45\n",
            "Sum of digits is: 9\n"
          ]
        }
      ]
    },
    {
      "cell_type": "code",
      "source": [
        "num = int(input(\"Enter number: \"))\n",
        "if num < 0:\n",
        "  print(\"Enter number.\")\n",
        "else:\n",
        "  original_num = num\n",
        "  last_digit = num % 10\n",
        "for digit in range(0, num):\n",
        "   if num < 10:\n",
        "      first_digit = num\n",
        "      break\n",
        "      num = num // 10\n",
        "\n",
        "print(\"First digit:\", first_digit)\n",
        "print(\"Last digit:\", last_digit)\n"
      ],
      "metadata": {
        "colab": {
          "base_uri": "https://localhost:8080/"
        },
        "id": "nMUZ41ozTGUa",
        "outputId": "87000119-568f-4522-fab6-d938619c61a1"
      },
      "execution_count": null,
      "outputs": [
        {
          "output_type": "stream",
          "name": "stdout",
          "text": [
            "Enter number: 14589\n",
            "First digit: 1\n",
            "Last digit: 9\n"
          ]
        }
      ]
    },
    {
      "cell_type": "code",
      "source": [
        "num = int(input(\"Enter number: \"))\n",
        "\n",
        "if num < 0:\n",
        "   print(\"Enter number\")\n",
        "else:\n",
        "   original_num = num\n",
        "   last_digit = num % 10\n",
        "\n",
        "   for digit in range(0,num):\n",
        "            if num < 10:\n",
        "              first_digit = num\n",
        "              break\n",
        "              num = num // 10\n",
        "\n",
        "sum_digits = first_digit + last_digit\n",
        "\n",
        "print(\"First digit:\", first_digit)\n",
        "print(\"Last digit:\", last_digit)\n",
        "print(\"Sum of the first and last digit:\", sum_digits)\n"
      ],
      "metadata": {
        "colab": {
          "base_uri": "https://localhost:8080/"
        },
        "id": "v1gS72ybXANl",
        "outputId": "67a6169e-30b2-43c0-e4e0-9560025d0271"
      },
      "execution_count": null,
      "outputs": [
        {
          "output_type": "stream",
          "name": "stdout",
          "text": [
            "Enter number: 17852\n",
            "First digit: 1\n",
            "Last digit: 2\n",
            "Sum of the first and last digit: 3\n"
          ]
        }
      ]
    },
    {
      "cell_type": "code",
      "source": [
        "num = int(input(\"Enter number: \"))\n",
        "\n",
        "if num < 0:\n",
        "        print(\"Enter number.\")\n",
        "else:\n",
        "  original_num = num\n",
        "  reversed_num = 0\n",
        "\n",
        "for number in range(0,num):\n",
        "  if num == 0:\n",
        "    break\n",
        "  digit = num % 10\n",
        "  reversed_num = reversed_num * 10 + digit\n",
        "  num = num // 10\n",
        "\n",
        "print(\"Original number:\", original_num)\n",
        "print(\"Reversed number:\", reversed_num)"
      ],
      "metadata": {
        "colab": {
          "base_uri": "https://localhost:8080/"
        },
        "id": "UQkoPhEOZOiD",
        "outputId": "d353599a-e392-46e5-d54c-1907887233a7"
      },
      "execution_count": null,
      "outputs": [
        {
          "output_type": "stream",
          "name": "stdout",
          "text": [
            "Enter number: 1253\n",
            "Original number: 1253\n",
            "Reversed number: 3521\n"
          ]
        }
      ]
    },
    {
      "cell_type": "code",
      "source": [
        "base = int(input(\"Enter base number: \"))\n",
        "exponent = int(input(\"Enter exponent number: \"))\n",
        "\n",
        "if exponent < 0:\n",
        "   print(\"Enter exponent.\")\n",
        "else:\n",
        "   result = 1\n",
        "\n",
        "   for number in range(exponent):\n",
        "     result *= base\n",
        "\n",
        "print(f\"{base} raised to the power of {exponent} is: {result}\")\n"
      ],
      "metadata": {
        "colab": {
          "base_uri": "https://localhost:8080/"
        },
        "id": "W1Nqla3wbtl1",
        "outputId": "35482858-b4d8-482d-e1a2-36c6ca7db0f1"
      },
      "execution_count": null,
      "outputs": [
        {
          "output_type": "stream",
          "name": "stdout",
          "text": [
            "Enter base number: 5\n",
            "Enter exponent number: 2\n",
            "5 raised to the power of 2 is: 25\n"
          ]
        }
      ]
    },
    {
      "cell_type": "code",
      "source": [
        "num = int(input(\"Enter number: \"))\n",
        "\n",
        "if num <= 0:\n",
        "   print(\"Enter number.\")\n",
        "else:\n",
        "   print(f\"Factors of {num} are:\")\n",
        "\n",
        "for i in range(1, num + 1):\n",
        "    if num % i == 0:\n",
        "       print(i)\n"
      ],
      "metadata": {
        "colab": {
          "base_uri": "https://localhost:8080/"
        },
        "id": "lft8mXDzddxS",
        "outputId": "562e34d4-dfee-41ab-b162-39d69fe343f3"
      },
      "execution_count": null,
      "outputs": [
        {
          "output_type": "stream",
          "name": "stdout",
          "text": [
            "Enter number: 25\n",
            "Factors of 25 are:\n",
            "1\n",
            "5\n",
            "25\n"
          ]
        }
      ]
    }
  ]
}